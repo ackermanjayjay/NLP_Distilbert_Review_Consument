{
  "cells": [
    {
      "cell_type": "code",
      "execution_count": 11,
      "metadata": {
        "id": "smdDs-qYDoYR"
      },
      "outputs": [],
      "source": [
        "import pandas as pd"
      ]
    },
    {
      "cell_type": "code",
      "execution_count": null,
      "metadata": {
        "id": "rqSXpV3SDoYU"
      },
      "outputs": [],
      "source": [
        "df = pd.read_csv(\"Women_s_E-Commerce_Clothing_Reviews_1594_1.csv\",sep=';')"
      ]
    },
    {
      "cell_type": "code",
      "execution_count": null,
      "metadata": {
        "id": "8ILK_vCmDoYV",
        "outputId": "3be72325-0719-4ad0-e063-0de486ba5bed"
      },
      "outputs": [
        {
          "data": {
            "text/html": [
              "<div>\n",
              "<style scoped>\n",
              "    .dataframe tbody tr th:only-of-type {\n",
              "        vertical-align: middle;\n",
              "    }\n",
              "\n",
              "    .dataframe tbody tr th {\n",
              "        vertical-align: top;\n",
              "    }\n",
              "\n",
              "    .dataframe thead th {\n",
              "        text-align: right;\n",
              "    }\n",
              "</style>\n",
              "<table border=\"1\" class=\"dataframe\">\n",
              "  <thead>\n",
              "    <tr style=\"text-align: right;\">\n",
              "      <th></th>\n",
              "      <th>Unnamed: 0</th>\n",
              "      <th>Clothing.ID</th>\n",
              "      <th>Age</th>\n",
              "      <th>Title</th>\n",
              "      <th>Review.Text</th>\n",
              "      <th>Rating</th>\n",
              "      <th>Recommended.IND</th>\n",
              "      <th>Positive.Feedback.Count</th>\n",
              "      <th>Division.Name</th>\n",
              "      <th>Department.Name</th>\n",
              "      <th>Class.Name</th>\n",
              "    </tr>\n",
              "  </thead>\n",
              "  <tbody>\n",
              "    <tr>\n",
              "      <th>0</th>\n",
              "      <td>1</td>\n",
              "      <td>767</td>\n",
              "      <td>33</td>\n",
              "      <td>NaN</td>\n",
              "      <td>Absolutely wonderful - silky and sexy and comf...</td>\n",
              "      <td>4</td>\n",
              "      <td>1</td>\n",
              "      <td>0</td>\n",
              "      <td>Initmates</td>\n",
              "      <td>Intimate</td>\n",
              "      <td>Intimates</td>\n",
              "    </tr>\n",
              "    <tr>\n",
              "      <th>1</th>\n",
              "      <td>2</td>\n",
              "      <td>1080</td>\n",
              "      <td>34</td>\n",
              "      <td>NaN</td>\n",
              "      <td>Love this dress!  it's sooo pretty.  i happene...</td>\n",
              "      <td>5</td>\n",
              "      <td>1</td>\n",
              "      <td>4</td>\n",
              "      <td>General</td>\n",
              "      <td>Dresses</td>\n",
              "      <td>Dresses</td>\n",
              "    </tr>\n",
              "    <tr>\n",
              "      <th>2</th>\n",
              "      <td>3</td>\n",
              "      <td>1077</td>\n",
              "      <td>60</td>\n",
              "      <td>Some major design flaws</td>\n",
              "      <td>I had such high hopes for this dress and reall...</td>\n",
              "      <td>3</td>\n",
              "      <td>0</td>\n",
              "      <td>0</td>\n",
              "      <td>General</td>\n",
              "      <td>Dresses</td>\n",
              "      <td>Dresses</td>\n",
              "    </tr>\n",
              "    <tr>\n",
              "      <th>3</th>\n",
              "      <td>4</td>\n",
              "      <td>1049</td>\n",
              "      <td>50</td>\n",
              "      <td>My favorite buy!</td>\n",
              "      <td>I love, love, love this jumpsuit. it's fun, fl...</td>\n",
              "      <td>5</td>\n",
              "      <td>1</td>\n",
              "      <td>0</td>\n",
              "      <td>General Petite</td>\n",
              "      <td>Bottoms</td>\n",
              "      <td>Pants</td>\n",
              "    </tr>\n",
              "    <tr>\n",
              "      <th>4</th>\n",
              "      <td>5</td>\n",
              "      <td>847</td>\n",
              "      <td>47</td>\n",
              "      <td>Flattering shirt</td>\n",
              "      <td>This shirt is very flattering to all due to th...</td>\n",
              "      <td>5</td>\n",
              "      <td>1</td>\n",
              "      <td>6</td>\n",
              "      <td>General</td>\n",
              "      <td>Tops</td>\n",
              "      <td>Blouses</td>\n",
              "    </tr>\n",
              "  </tbody>\n",
              "</table>\n",
              "</div>"
            ],
            "text/plain": [
              "   Unnamed: 0  Clothing.ID  Age                    Title  \\\n",
              "0           1          767   33                      NaN   \n",
              "1           2         1080   34                      NaN   \n",
              "2           3         1077   60  Some major design flaws   \n",
              "3           4         1049   50         My favorite buy!   \n",
              "4           5          847   47         Flattering shirt   \n",
              "\n",
              "                                         Review.Text  Rating  Recommended.IND  \\\n",
              "0  Absolutely wonderful - silky and sexy and comf...       4                1   \n",
              "1  Love this dress!  it's sooo pretty.  i happene...       5                1   \n",
              "2  I had such high hopes for this dress and reall...       3                0   \n",
              "3  I love, love, love this jumpsuit. it's fun, fl...       5                1   \n",
              "4  This shirt is very flattering to all due to th...       5                1   \n",
              "\n",
              "   Positive.Feedback.Count   Division.Name Department.Name Class.Name  \n",
              "0                        0       Initmates        Intimate  Intimates  \n",
              "1                        4         General         Dresses    Dresses  \n",
              "2                        0         General         Dresses    Dresses  \n",
              "3                        0  General Petite         Bottoms      Pants  \n",
              "4                        6         General            Tops    Blouses  "
            ]
          },
          "execution_count": 38,
          "metadata": {},
          "output_type": "execute_result"
        }
      ],
      "source": [
        "df.head()"
      ]
    },
    {
      "cell_type": "markdown",
      "metadata": {
        "id": "ns9I4v2-DoYW"
      },
      "source": [
        "# EDA"
      ]
    },
    {
      "cell_type": "code",
      "execution_count": null,
      "metadata": {
        "id": "eEyPgjGeDoYX"
      },
      "outputs": [],
      "source": [
        "df.dropna(inplace=True)"
      ]
    },
    {
      "cell_type": "code",
      "execution_count": null,
      "metadata": {
        "id": "DpFiRkxhDoYY",
        "outputId": "99998b6d-3ada-4765-cd47-a3ad68cc61ec"
      },
      "outputs": [
        {
          "data": {
            "image/png": "[encoded data removed]",
            "text/plain": [
              "<Figure size 640x480 with 1 Axes>"
            ]
          },
          "metadata": {},
          "output_type": "display_data"
        }
      ],
      "source": [
        "df['Rating'].value_counts().plot.barh();"
      ]
    },
    {
      "cell_type": "code",
      "execution_count": null,
      "metadata": {
        "id": "1VMTNtefDoYY",
        "outputId": "eca6a42d-178e-4ada-ccd0-78331c02a1bd"
      },
      "outputs": [
        {
          "name": "stdout",
          "output_type": "stream",
          "text": [
            "Review 1:\n",
            " I had such high hopes for this dress and really wanted it to work for me. i initially ordered the petite small (my usual size) but i found this to be outrageously small. so small in fact that i could not zip it up! i reordered it in petite medium, which was just ok. overall, the top half was comfortable and fit nicely, but the bottom half had a very tight under layer and several somewhat cheap (net) over layers. imo, a major design flaw was the net over layer sewn directly into the zipper - it c\n",
            "Review 2:\n",
            " I love, love, love this jumpsuit. it's fun, flirty, and fabulous! every time i wear it, i get nothing but great compliments!\n",
            "Review 3:\n",
            " This shirt is very flattering to all due to the adjustable front tie. it is the perfect length to wear with leggings and it is sleeveless so it pairs well with any cardigan. love this shirt!!!\n",
            "Review 4:\n",
            " I love tracy reese dresses, but this one is not for the very petite. i am just under 5 feet tall and usually wear a 0p in this brand. this dress was very pretty out of the package but its a lot of dress. the skirt is long and very full so it overwhelmed my small frame. not a stranger to alterations, shortening and narrowing the skirt would take away from the embellishment of the garment. i love the color and the idea of the style but it just did not work on me. i returned this dress.\n",
            "Review 5:\n",
            " I aded this in my basket at hte last mintue to see what it would look like in person. (store pick up). i went with teh darkler color only because i am so pale :-) hte color is really gorgeous, and turns out it mathced everythiing i was trying on with it prefectly. it is a little baggy on me and hte xs is hte msallet size (bummer, no petite). i decided to jkeep it though, because as i said, it matvehd everything. my ejans, pants, and the 3 skirts i waas trying on (of which i ]kept all ) oops.\n"
          ]
        }
      ],
      "source": [
        "for index,text in enumerate(df['Review.Text'][0:5]):\n",
        "  print('Review %d:\\n'%(index+1),text)"
      ]
    },
    {
      "cell_type": "code",
      "execution_count": null,
      "metadata": {
        "id": "8DXmOPInDoYZ"
      },
      "outputs": [],
      "source": [
        "df['punctuation_used'] = df['Review.Text'].str.findall(r'[^\\w\\s]').str.join(\", \")\n",
        "df['number_string'] = df['Review.Text'].str.findall(r'[0-9]').str.join(\", \")"
      ]
    },
    {
      "cell_type": "code",
      "execution_count": null,
      "metadata": {
        "id": "dOeUgDP6DoYa",
        "outputId": "82680bbc-696a-4ce0-9076-e743a938f92d"
      },
      "outputs": [
        {
          "data": {
            "text/plain": [
              "2                 ., (, ), ., !, ,, ., ,, ,, (, ), ., ,, -\n",
              "3                                ,, ,, ., ', ,, ,, !, ,, !\n",
              "4                                            ., ., !, !, !\n",
              "5                                ,, ., ., ., ., ,, ., ., .\n",
              "6        ., (, ), ., :, -, ), ,, ., (, ,, ), ., ,, ,, ....\n",
              "                               ...                        \n",
              "23481                                              !, ', .\n",
              "23482                   ., ,, ,, ., ., ., ., ., ., ., ., .\n",
              "23483                               ,, ., ., ', ', ., ,, .\n",
              "23484                   ,, ', ., ', ., ,, ., ,, ,, ., -, !\n",
              "23485                                           ,, ,, !, !\n",
              "Name: punctuation_used, Length: 19662, dtype: object"
            ]
          },
          "execution_count": 8,
          "metadata": {},
          "output_type": "execute_result"
        }
      ],
      "source": [
        "df['punctuation_used']"
      ]
    },
    {
      "cell_type": "code",
      "execution_count": null,
      "metadata": {
        "id": "9xUz85--DoYa"
      },
      "outputs": [],
      "source": [
        "tanda_baca = df['punctuation_used'].nunique()\n",
        "jumlah_angka = df['number_string'].nunique()"
      ]
    },
    {
      "cell_type": "code",
      "execution_count": null,
      "metadata": {
        "id": "tbueilFODoYb",
        "outputId": "d595cbf3-a22e-46af-9bd7-cbe7fbc4cfae"
      },
      "outputs": [
        {
          "name": "stdout",
          "output_type": "stream",
          "text": [
            "Jumlah tanda baca dalam data: 15019\n",
            "Jumlah angka dalam data: 3283\n"
          ]
        }
      ],
      "source": [
        "print(f'Jumlah tanda baca dalam data: {tanda_baca}')\n",
        "print(f'Jumlah angka dalam data: {jumlah_angka}')"
      ]
    },
    {
      "cell_type": "markdown",
      "metadata": {
        "id": "5gqT9V-oDoYb"
      },
      "source": [
        "# Preprocessig Text"
      ]
    },
    {
      "cell_type": "code",
      "execution_count": null,
      "metadata": {
        "id": "CuU44WHqDoYb",
        "outputId": "aab53371-f174-4bd1-f906-227d18612048"
      },
      "outputs": [
        {
          "name": "stderr",
          "output_type": "stream",
          "text": [
            "[nltk_data] Downloading package stopwords to\n",
            "[nltk_data]     C:\\Users\\Reza\\AppData\\Roaming\\nltk_data...\n",
            "[nltk_data]   Package stopwords is already up-to-date!\n",
            "[nltk_data] Downloading package stopwords to\n",
            "[nltk_data]     C:\\Users\\Reza\\AppData\\Roaming\\nltk_data...\n",
            "[nltk_data]   Package stopwords is already up-to-date!\n"
          ]
        }
      ],
      "source": [
        "def caseFolding(text):\n",
        "  text=text.lower()\n",
        "  return text\n",
        "\n",
        "\n",
        "import re\n",
        "def punc_removal(text):\n",
        "  text=re.sub(r\"[^a-zA-Z]\",\" \",text)\n",
        "  return text\n",
        "\n",
        "# import StemmerFactory class\n",
        "\n",
        "# create stemmer\n",
        "import nltk\n",
        "from nltk import *\n",
        "stemmer = PorterStemmer()\n",
        "def stemsWords(text):\n",
        "  text=stemmer.stem(text)\n",
        "  return text\n",
        "\n",
        "import nltk\n",
        "nltk.download('stopwords')\n",
        "from nltk.corpus import stopwords\n",
        "nltk.download('stopwords')\n",
        "stp=stopwords.words('english')\n",
        "\n",
        "def flatten(l):\n",
        "    \"\"\"\n",
        "    Same as\n",
        "    flat_list = []\n",
        "    for sublist in l:\n",
        "    for item in sublist:\n",
        "        flat_list.append(item)\n",
        "\n",
        "    Example =[[1,2,3,4,5]] - > [1,2,3,4,5]\n",
        "    \"\"\"\n",
        "    return \" \".join([item for sublist in l for item in sublist])\n",
        "\n",
        "def remove_stop_words(text):\n",
        "  stopWords_combine=stp\n",
        "  clean_words = []\n",
        "  text=text.split()\n",
        "  perulangan_text=[word for word in text if word not in stopWords_combine]\n",
        "  clean_words.append(perulangan_text)\n",
        "  return flatten(clean_words)\n",
        "\n",
        "def preprocessing_text(text):\n",
        "  # text=caseFolding(text)\n",
        "  text=punc_removal(text)\n",
        "  text=remove_stop_words(text)\n",
        "  text=stemsWords(text)\n",
        "  return text"
      ]
    },
    {
      "cell_type": "code",
      "execution_count": null,
      "metadata": {
        "id": "CGzNDWgsDoYc"
      },
      "outputs": [],
      "source": [
        "df_text = df[[\"Review.Text\", \"Rating\"]]\n"
      ]
    },
    {
      "cell_type": "code",
      "execution_count": null,
      "metadata": {
        "id": "w0TOrjl4DoYc",
        "outputId": "59cd7fe8-454e-4a9a-efa9-616856b5f44d"
      },
      "outputs": [
        {
          "name": "stderr",
          "output_type": "stream",
          "text": [
            "C:\\Users\\Reza\\AppData\\Local\\Temp\\ipykernel_15836\\908015638.py:1: SettingWithCopyWarning: \n",
            "A value is trying to be set on a copy of a slice from a DataFrame.\n",
            "Try using .loc[row_indexer,col_indexer] = value instead\n",
            "\n",
            "See the caveats in the documentation: https://pandas.pydata.org/pandas-docs/stable/user_guide/indexing.html#returning-a-view-versus-a-copy\n",
            "  df_text[\"clean_text\"] = df_text[\"Review.Text\"].apply(preprocessing_text)\n"
          ]
        }
      ],
      "source": [
        "df_text[\"clean_text\"] = df_text[\"Review.Text\"].apply(preprocessing_text)"
      ]
    },
    {
      "cell_type": "code",
      "execution_count": null,
      "metadata": {
        "id": "MndS3eziDoYc",
        "outputId": "c6198222-0032-410c-cf28-743559510195"
      },
      "outputs": [
        {
          "data": {
            "text/plain": [
              "2        i high hopes dress really wanted work initiall...\n",
              "3        i love love love jumpsuit fun flirty fabulous ...\n",
              "4        this shirt flattering due adjustable front tie...\n",
              "5        i love tracy reese dresses one petite feet tal...\n",
              "6        i aded basket hte last mintue see would look l...\n",
              "                               ...                        \n",
              "23481    i happy snag dress great price easy slip flatt...\n",
              "23482    it reminds maternity clothes soft stretchy shi...\n",
              "23483    this fit well top see never would worked glad ...\n",
              "23484    i bought dress wedding summer cute unfortunate...\n",
              "23485    this dress lovely platinum feminine fits perfe...\n",
              "Name: clean_text, Length: 19662, dtype: object"
            ]
          },
          "execution_count": 16,
          "metadata": {},
          "output_type": "execute_result"
        }
      ],
      "source": [
        "df_text[\"clean_text\"]"
      ]
    },
    {
      "cell_type": "code",
      "execution_count": 5,
      "metadata": {
        "id": "R6C3N0OxDoYc"
      },
      "outputs": [],
      "source": [
        "def rating_to_sentiment(rating):\n",
        "    df = {\n",
        "       1:\"Negative\",\n",
        "       2:\"Negative\",\n",
        "       3:\"Netral\" ,\n",
        "       4:\"Positive\",\n",
        "       5:\"Positive\"\n",
        "    }\n",
        "    return df.get(rating)"
      ]
    },
    {
      "cell_type": "code",
      "execution_count": 6,
      "metadata": {
        "id": "xndefcWvDoYd"
      },
      "outputs": [],
      "source": [
        "def sentiment_encoder(rating):\n",
        "    df = {\n",
        "       \"Negative\":0,\n",
        "       \"Netral\":1,\n",
        "       \"Positive\":2,\n",
        "    }\n",
        "    return df.get(rating)"
      ]
    },
    {
      "cell_type": "code",
      "execution_count": null,
      "metadata": {
        "id": "5L4ShsEIDoYd",
        "outputId": "3c809c1e-eab0-4d8c-b102-d3127cab7a28"
      },
      "outputs": [
        {
          "name": "stderr",
          "output_type": "stream",
          "text": [
            "C:\\Users\\Reza\\AppData\\Local\\Temp\\ipykernel_15836\\3199579502.py:1: SettingWithCopyWarning: \n",
            "A value is trying to be set on a copy of a slice from a DataFrame.\n",
            "Try using .loc[row_indexer,col_indexer] = value instead\n",
            "\n",
            "See the caveats in the documentation: https://pandas.pydata.org/pandas-docs/stable/user_guide/indexing.html#returning-a-view-versus-a-copy\n",
            "  df_text[\"Label\"] = df_text[\"Rating\"].apply(rating_to_sentiment)\n"
          ]
        }
      ],
      "source": [
        "df_text[\"Label\"] = df_text[\"Rating\"].apply(rating_to_sentiment)"
      ]
    },
    {
      "cell_type": "markdown",
      "metadata": {
        "id": "PGY2vqg4DoYd"
      },
      "source": [
        "# Model build"
      ]
    },
    {
      "cell_type": "markdown",
      "metadata": {
        "id": "n3MC7DWUDoYd"
      },
      "source": [
        "## Distibert"
      ]
    },
    {
      "cell_type": "markdown",
      "metadata": {
        "id": "V1j9agOHDoYd"
      },
      "source": [
        "### Tensorflow"
      ]
    },
    {
      "cell_type": "code",
      "execution_count": 12,
      "metadata": {
        "id": "QM6LLoczDoYd"
      },
      "outputs": [],
      "source": [
        "from sklearn.model_selection import train_test_split"
      ]
    },
    {
      "cell_type": "code",
      "execution_count": 13,
      "metadata": {
        "id": "vi7KuKHWDoYd"
      },
      "outputs": [],
      "source": [
        "from transformers import DistilBertTokenizer\n",
        "from transformers import TFDistilBertForSequenceClassification\n",
        "import tensorflow as tf\n",
        "import os\n",
        "os.environ[\"TF_USE_LEGACY_KERAS\"] = '1'"
      ]
    },
    {
      "cell_type": "code",
      "execution_count": 14,
      "metadata": {
        "id": "WIhYQ2HyDoYd"
      },
      "outputs": [],
      "source": [
        "DATA_PATH = \"cleaned_data.csv\""
      ]
    },
    {
      "cell_type": "code",
      "execution_count": 15,
      "metadata": {
        "id": "gOlvEWGkDoYe"
      },
      "outputs": [],
      "source": [
        "df_text = pd.read_csv(DATA_PATH)"
      ]
    },
    {
      "cell_type": "code",
      "execution_count": 16,
      "metadata": {
        "id": "sFE3rlOWDoYe"
      },
      "outputs": [],
      "source": [
        "df_text[\"encoded\"] = df_text[\"Label\"].apply(sentiment_encoder)"
      ]
    },
    {
      "cell_type": "code",
      "source": [
        "df_text_ready = df_text"
      ],
      "metadata": {
        "id": "pGWi9I7-HKmL"
      },
      "execution_count": 17,
      "outputs": []
    },
    {
      "cell_type": "code",
      "execution_count": 18,
      "metadata": {
        "id": "10DPc0l1DoYe"
      },
      "outputs": [],
      "source": [
        "data_texts = df_text_ready[\"clean_text\"].to_list()\n",
        "data_labels = df_text_ready[\"encoded\"].to_list()"
      ]
    },
    {
      "cell_type": "code",
      "execution_count": 19,
      "metadata": {
        "id": "COf9RmuuDoYe"
      },
      "outputs": [],
      "source": [
        "train_texts, val_texts, train_labels, val_labels = train_test_split(data_texts, data_labels, test_size=0.1, random_state=0, shuffle=True)\n",
        "train_texts, test_texts, train_labels, test_labels= train_test_split(train_texts, train_labels, test_size=0.01, random_state=0, shuffle=True)\n"
      ]
    },
    {
      "cell_type": "markdown",
      "metadata": {
        "id": "PsTjw7w7DoYe"
      },
      "source": [
        "[distil_bert_base_en_uncased](https://www.kaggle.com/models/keras/distil_bert)\n",
        "* 6-layer model where all input is lowercased.\n",
        "* 66.36M"
      ]
    },
    {
      "cell_type": "code",
      "execution_count": 20,
      "metadata": {
        "id": "jcYN4CJDDoYe",
        "colab": {
          "base_uri": "https://localhost:8080/",
          "height": 304,
          "referenced_widgets": [
            "7c4d9f7c02314c9784c637ac7422d124",
            "f70315826b2c49ffb6b5f5b9fcbbff92",
            "8c0f69066f1441e6b097678e482326f6",
            "37917439567f4466aed7f96287be179a",
            "e2eaaf6dd4594a19bae4d709f89b5dd3",
            "3c970eec879a409e853b11817f1e51bc",
            "4dede8ca562243d7be9b93ee8a14149c",
            "29b08fc1068547579489f04521084a76",
            "9436799e1dbd463eb1ed9113c585363d",
            "c4d06eab71df4733a03d3de54d44fea5",
            "0f85e2383ffb47198b556a4574931a57",
            "34ee8d6e79504528b7c572ef461d9e35",
            "0f194e1397f1408595332250bae38f1a",
            "8810d9c34be24a6bb8b81c4b12a00ab3",
            "5200901794f64e32a652f371926b581e",
            "cff1aae8081d4faea7fc7bedb79cb3a9",
            "3e71cb0265eb49b98edbeae39ed3fa79",
            "8789c6eccd4e4445b7cfe9ed05833963",
            "0af74a1cbf1341b4b10884d01576f4fb",
            "e4914fd8ae1146afb696457ce74aafd7",
            "899a13e401414b58afd4c5230de19dc2",
            "76eaf6e107194adfb5873e7dc8e79645",
            "980ab6d8f2d4479eadb6b091e55b6e9f",
            "3d9555f543174fd3baa0336f2b2388bb",
            "99d17f78378c40fcb2cb4990b7b3e450",
            "9e97ca85246a47d4a6e28653c154ea74",
            "4e2fc2c145eb46238baff727bbdba610",
            "72aced9e58104fd98ae0edb0a3cec402",
            "24b55e56f66c4c08a1401c85454e15ba",
            "7fbc4706b28a45b39de0357e7f7aadb0",
            "3dbbbc689b634968b1ef34f4c9bfad2e",
            "1f4d958407f44f44aa2b6afc1806e153",
            "a377f8fe0b004017b4ddb56e56d7afcf",
            "5d2f7af23f5542a0960ea091708aadd4",
            "a175b66116944135b5ae5f37ce7f2bc9",
            "0827eb85855c483ba75dbdfbc2816aa3",
            "a8e37ef56b2f4c00b60ae6bc4030f79b",
            "1b0663a56e654533acc380bcf1bfe993",
            "52140603943744db88552a9f7171fafb",
            "08eb4332f9074cffaeef06e91d48366b",
            "512ba9bb54df438a9cbd04cfe5cba5a4",
            "4e34ac63451f403b90f9be48f3056bbc",
            "f87bdae7b42943e4a5e50f047cb335eb",
            "7f3f296d09494443b735ddc456b3851d"
          ]
        },
        "outputId": "60eaed0d-2f7f-46f3-bb1f-1a68663bef78"
      },
      "outputs": [
        {
          "output_type": "stream",
          "name": "stderr",
          "text": [
            "/usr/local/lib/python3.10/dist-packages/huggingface_hub/utils/_token.py:89: UserWarning: \n",
            "The secret `HF_TOKEN` does not exist in your Colab secrets.\n",
            "To authenticate with the Hugging Face Hub, create a token in your settings tab (https://huggingface.co/settings/tokens), set it as secret in your Google Colab and restart your session.\n",
            "You will be able to reuse this secret in all of your notebooks.\n",
            "Please note that authentication is recommended but still optional to access public models or datasets.\n",
            "  warnings.warn(\n"
          ]
        },
        {
          "output_type": "display_data",
          "data": {
            "text/plain": [
              "tokenizer_config.json:   0%|          | 0.00/48.0 [00:00<?, ?B/s]"
            ],
            "application/vnd.jupyter.widget-view+json": {
              "version_major": 2,
              "version_minor": 0,
              "model_id": "7c4d9f7c02314c9784c637ac7422d124"
            }
          },
          "metadata": {}
        },
        {
          "output_type": "display_data",
          "data": {
            "text/plain": [
              "vocab.txt:   0%|          | 0.00/232k [00:00<?, ?B/s]"
            ],
            "application/vnd.jupyter.widget-view+json": {
              "version_major": 2,
              "version_minor": 0,
              "model_id": "34ee8d6e79504528b7c572ef461d9e35"
            }
          },
          "metadata": {}
        },
        {
          "output_type": "display_data",
          "data": {
            "text/plain": [
              "tokenizer.json:   0%|          | 0.00/466k [00:00<?, ?B/s]"
            ],
            "application/vnd.jupyter.widget-view+json": {
              "version_major": 2,
              "version_minor": 0,
              "model_id": "980ab6d8f2d4479eadb6b091e55b6e9f"
            }
          },
          "metadata": {}
        },
        {
          "output_type": "stream",
          "name": "stderr",
          "text": [
            "/usr/local/lib/python3.10/dist-packages/huggingface_hub/file_download.py:1132: FutureWarning: `resume_download` is deprecated and will be removed in version 1.0.0. Downloads always resume when possible. If you want to force a new download, use `force_download=True`.\n",
            "  warnings.warn(\n"
          ]
        },
        {
          "output_type": "display_data",
          "data": {
            "text/plain": [
              "config.json:   0%|          | 0.00/483 [00:00<?, ?B/s]"
            ],
            "application/vnd.jupyter.widget-view+json": {
              "version_major": 2,
              "version_minor": 0,
              "model_id": "5d2f7af23f5542a0960ea091708aadd4"
            }
          },
          "metadata": {}
        }
      ],
      "source": [
        "tokenizer = DistilBertTokenizer.from_pretrained('distilbert-base-uncased')\n",
        "train_encodings = tokenizer(train_texts, truncation=True, padding=True)\n",
        "val_encodings = tokenizer(val_texts, truncation=True, padding=True)"
      ]
    },
    {
      "cell_type": "code",
      "execution_count": 21,
      "metadata": {
        "id": "fFEj9cDhDoYf"
      },
      "outputs": [],
      "source": [
        "train_dataset = tf.data.Dataset.from_tensor_slices((\n",
        "dict(train_encodings),\n",
        "train_labels\n",
        "))\n",
        "val_dataset = tf.data.Dataset.from_tensor_slices((\n",
        "dict(val_encodings),\n",
        "val_labels\n",
        "))"
      ]
    },
    {
      "cell_type": "code",
      "execution_count": 22,
      "metadata": {
        "colab": {
          "base_uri": "https://localhost:8080/"
        },
        "id": "dXDaNJF0DoYf",
        "outputId": "c34e5299-bdd9-4391-9d3d-98197988a8c7"
      },
      "outputs": [
        {
          "output_type": "execute_result",
          "data": {
            "text/plain": [
              "<_TensorSliceDataset element_spec=({'input_ids': TensorSpec(shape=(77,), dtype=tf.int32, name=None), 'attention_mask': TensorSpec(shape=(77,), dtype=tf.int32, name=None)}, TensorSpec(shape=(), dtype=tf.int32, name=None))>"
            ]
          },
          "metadata": {},
          "execution_count": 22
        }
      ],
      "source": [
        "train_dataset"
      ]
    },
    {
      "cell_type": "code",
      "execution_count": 23,
      "metadata": {
        "colab": {
          "base_uri": "https://localhost:8080/"
        },
        "id": "K-8d2BDDDoYf",
        "outputId": "e56ee3fa-d206-4ae5-ee95-3a9963a146a8"
      },
      "outputs": [
        {
          "output_type": "execute_result",
          "data": {
            "text/plain": [
              "<_TensorSliceDataset element_spec=({'input_ids': TensorSpec(shape=(69,), dtype=tf.int32, name=None), 'attention_mask': TensorSpec(shape=(69,), dtype=tf.int32, name=None)}, TensorSpec(shape=(), dtype=tf.int32, name=None))>"
            ]
          },
          "metadata": {},
          "execution_count": 23
        }
      ],
      "source": [
        "val_dataset"
      ]
    },
    {
      "cell_type": "code",
      "execution_count": 24,
      "metadata": {
        "id": "CXgah-n-DoYf"
      },
      "outputs": [],
      "source": [
        "labels = df_text.encoded.nunique()"
      ]
    },
    {
      "cell_type": "code",
      "execution_count": 25,
      "metadata": {
        "colab": {
          "base_uri": "https://localhost:8080/",
          "height": 156,
          "referenced_widgets": [
            "ffdd48366eea4847a465b627208db70d",
            "d523fac37d44426db30945ea0112eb8b",
            "fb779963d4ae44c6af0135541b850f06",
            "b107f05c8fd44dd29760dae4631b7f38",
            "2f9d2f1058374826a4320aad25121063",
            "b7ce3674d3414689b1a5d0fb4da97d3b",
            "658fda1efcbf4c9b972c776a0f5730e6",
            "9625cd6e90bf458eaf6305acd634aaa0",
            "e726b4785028442c8a3bd58eb04c0f0b",
            "a82ce382050b441ea23caa0bc861f30f",
            "ac9da389cc544b4883f592b373498e88"
          ]
        },
        "id": "KzGpMmf3DoYf",
        "outputId": "bad637a6-8154-428a-cad1-b8aaf5e8f37b"
      },
      "outputs": [
        {
          "output_type": "display_data",
          "data": {
            "text/plain": [
              "model.safetensors:   0%|          | 0.00/268M [00:00<?, ?B/s]"
            ],
            "application/vnd.jupyter.widget-view+json": {
              "version_major": 2,
              "version_minor": 0,
              "model_id": "ffdd48366eea4847a465b627208db70d"
            }
          },
          "metadata": {}
        },
        {
          "output_type": "stream",
          "name": "stderr",
          "text": [
            "Some weights of the PyTorch model were not used when initializing the TF 2.0 model TFDistilBertForSequenceClassification: ['vocab_transform.bias', 'vocab_layer_norm.weight', 'vocab_projector.bias', 'vocab_transform.weight', 'vocab_layer_norm.bias']\n",
            "- This IS expected if you are initializing TFDistilBertForSequenceClassification from a PyTorch model trained on another task or with another architecture (e.g. initializing a TFBertForSequenceClassification model from a BertForPreTraining model).\n",
            "- This IS NOT expected if you are initializing TFDistilBertForSequenceClassification from a PyTorch model that you expect to be exactly identical (e.g. initializing a TFBertForSequenceClassification model from a BertForSequenceClassification model).\n",
            "Some weights or buffers of the TF 2.0 model TFDistilBertForSequenceClassification were not initialized from the PyTorch model and are newly initialized: ['pre_classifier.weight', 'pre_classifier.bias', 'classifier.weight', 'classifier.bias']\n",
            "You should probably TRAIN this model on a down-stream task to be able to use it for predictions and inference.\n"
          ]
        }
      ],
      "source": [
        "\n",
        "model = TFDistilBertForSequenceClassification.from_pretrained('distilbert-base-uncased', num_labels=labels )\n",
        "# lr_scheduler = tf.keras.callbacks.LearningRateScheduler(lambda epoch: 1e-4 * 10**(epoch/2)) # traverse a set of learning rate values starting from 1e-4, increasing by 10**(epoch/20) every epoch\n",
        "\n",
        "optimizer = tf.keras.optimizers.Adam(learning_rate=5e-5, epsilon=1e-08)\n",
        "early_stopping = tf.keras.callbacks.EarlyStopping(monitor='val_loss', patience=3, restore_best_weights=True)\n",
        "\n",
        "model.compile(optimizer=optimizer,\n",
        "              loss=model.hf_compute_loss,\n",
        "              metrics=['accuracy'])"
      ]
    },
    {
      "cell_type": "code",
      "execution_count": 26,
      "metadata": {
        "colab": {
          "base_uri": "https://localhost:8080/"
        },
        "id": "-odYcptiDoYg",
        "outputId": "89fc0e60-6472-48ab-b300-19bcc3054f18"
      },
      "outputs": [
        {
          "output_type": "stream",
          "name": "stdout",
          "text": [
            "Epoch 1/2\n"
          ]
        },
        {
          "output_type": "stream",
          "name": "stderr",
          "text": [
            "WARNING:tensorflow:AutoGraph could not transform <function infer_framework at 0x7e32a4098d30> and will run it as-is.\n",
            "Cause: for/else statement not yet supported\n",
            "To silence this warning, decorate the function with @tf.autograph.experimental.do_not_convert\n"
          ]
        },
        {
          "output_type": "stream",
          "name": "stdout",
          "text": [
            "WARNING: AutoGraph could not transform <function infer_framework at 0x7e32a4098d30> and will run it as-is.\n",
            "Cause: for/else statement not yet supported\n",
            "To silence this warning, decorate the function with @tf.autograph.experimental.do_not_convert\n",
            "1095/1095 [==============================] - 229s 162ms/step - loss: 0.4761 - accuracy: 0.8065 - val_loss: 0.4798 - val_accuracy: 0.8256\n",
            "Epoch 2/2\n",
            "1095/1095 [==============================] - 161s 147ms/step - loss: 0.3683 - accuracy: 0.8394 - val_loss: 0.4270 - val_accuracy: 0.8348\n"
          ]
        },
        {
          "output_type": "execute_result",
          "data": {
            "text/plain": [
              "<tf_keras.src.callbacks.History at 0x7e3243e7c5e0>"
            ]
          },
          "metadata": {},
          "execution_count": 26
        }
      ],
      "source": [
        "model.fit(train_dataset.shuffle(10000).batch(16),\n",
        "epochs=2,\n",
        "batch_size=16,\n",
        "validation_data=val_dataset.shuffle(10000).batch(16),\n",
        "callbacks=[early_stopping])"
      ]
    },
    {
      "cell_type": "code",
      "source": [
        "!mkdir Multitext_Classification_colab"
      ],
      "metadata": {
        "id": "-zxLaR-n7c9V"
      },
      "execution_count": 27,
      "outputs": []
    },
    {
      "cell_type": "code",
      "source": [
        "from tensorflow.keras.models import load_model\n",
        "save_directory = \"Multitext_Classification_colab\" # Change this to your preferred location\n",
        "\n",
        "model.save_pretrained(save_directory)\n",
        "tokenizer.save_pretrained(save_directory)"
      ],
      "metadata": {
        "colab": {
          "base_uri": "https://localhost:8080/"
        },
        "id": "ghe7STv1QwHg",
        "outputId": "f788daf8-c422-46dc-bf80-b4c8206cb7df"
      },
      "execution_count": 28,
      "outputs": [
        {
          "output_type": "execute_result",
          "data": {
            "text/plain": [
              "('Multitext_Classification_colab/tokenizer_config.json',\n",
              " 'Multitext_Classification_colab/special_tokens_map.json',\n",
              " 'Multitext_Classification_colab/vocab.txt',\n",
              " 'Multitext_Classification_colab/added_tokens.json')"
            ]
          },
          "metadata": {},
          "execution_count": 28
        }
      ]
    },
    {
      "cell_type": "code",
      "source": [
        "\n",
        "save_directory = \"Multitext_Classification_colab\"\n",
        "loaded_tokenizer = DistilBertTokenizer.from_pretrained(save_directory)\n",
        "loaded_model = TFDistilBertForSequenceClassification.from_pretrained(save_directory)"
      ],
      "metadata": {
        "colab": {
          "base_uri": "https://localhost:8080/"
        },
        "id": "XyWhTtImRP0H",
        "outputId": "e1143d47-6200-4e46-fa49-5b979ccc5966"
      },
      "execution_count": 29,
      "outputs": [
        {
          "output_type": "stream",
          "name": "stderr",
          "text": [
            "Some layers from the model checkpoint at Multitext_Classification_colab were not used when initializing TFDistilBertForSequenceClassification: ['dropout_19']\n",
            "- This IS expected if you are initializing TFDistilBertForSequenceClassification from the checkpoint of a model trained on another task or with another architecture (e.g. initializing a BertForSequenceClassification model from a BertForPreTraining model).\n",
            "- This IS NOT expected if you are initializing TFDistilBertForSequenceClassification from the checkpoint of a model that you expect to be exactly identical (initializing a BertForSequenceClassification model from a BertForSequenceClassification model).\n",
            "Some layers of TFDistilBertForSequenceClassification were not initialized from the model checkpoint at Multitext_Classification_colab and are newly initialized: ['dropout_39']\n",
            "You should probably TRAIN this model on a down-stream task to be able to use it for predictions and inference.\n"
          ]
        }
      ]
    },
    {
      "cell_type": "code",
      "source": [
        "df_text_ready.encoded.value_counts()"
      ],
      "metadata": {
        "colab": {
          "base_uri": "https://localhost:8080/"
        },
        "id": "-QvtRT5nRwYs",
        "outputId": "d11f72cf-38d4-4c34-c3b3-609b35c330da"
      },
      "execution_count": 30,
      "outputs": [
        {
          "output_type": "execute_result",
          "data": {
            "text/plain": [
              "encoded\n",
              "2    15147\n",
              "1     2464\n",
              "0     2051\n",
              "Name: count, dtype: int64"
            ]
          },
          "metadata": {},
          "execution_count": 30
        }
      ]
    },
    {
      "cell_type": "code",
      "source": [
        "def prediction_get(pred):\n",
        "  result = {\n",
        "      0:\"Negative\",\n",
        "      1:\"Netral\",\n",
        "      2:\"Positve\"\n",
        "  }\n",
        "  return result.get(pred)"
      ],
      "metadata": {
        "id": "q8B55fdMSY0U"
      },
      "execution_count": 31,
      "outputs": []
    },
    {
      "cell_type": "code",
      "source": [
        "def predict(text):\n",
        "  predict_input = loaded_tokenizer.encode(text,\n",
        "  truncation=True,\n",
        "  padding=True,\n",
        "  return_tensors=\"tf\")\n",
        "\n",
        "  output = loaded_model(predict_input)[0]\n",
        "\n",
        "  prediction_value = tf.argmax(output, axis=1).numpy()[0]\n",
        "  return prediction_value"
      ],
      "metadata": {
        "id": "A6tG0EA7RLOv"
      },
      "execution_count": 32,
      "outputs": []
    },
    {
      "cell_type": "code",
      "source": [
        "for texts in test_texts:\n",
        "  print(f'{texts} = {predict(texts)}' )"
      ],
      "metadata": {
        "colab": {
          "base_uri": "https://localhost:8080/"
        },
        "id": "km4OeqAFS7v3",
        "outputId": "a44c6045-fa0b-4d3a-f218-294e2d804271"
      },
      "execution_count": 33,
      "outputs": [
        {
          "output_type": "stream",
          "name": "stdout",
          "text": [
            "such pleasant surprise saw store try looks feels like lightweight real suede color wonderful neutral much prettier seeing pic fits tts although wear petites dresses pants found regular xs right = 2\n",
            "this great beach pool lounge piece debated keeping pass comfortable hugging without tight probably wear sort layer like jean jack tied shirt rather undone unless beach comfortable straps bit long = 2\n",
            "just review dress beautiful fabric light soft really perfect flowy tiered design colors really pretty bright fit perfectly would say much dressy appeared photos bodice beading much longer model though still perfect maxi length would perfect wear wedding formal affair = 2\n",
            "this absolutely fabulous skirt cant wait wear biggest challenge finding best way accessorize artist lots clothing created ab fab combo yet = 2\n",
            "i purchased violet chino local store color plum violet nice shade still fit perfect oh comfortable bought size weight fluxes see several pairs colors comfort level work fall spring summer warmer states even winter fabric soft feel = 2\n",
            "this cute stylish sweater different typical itch key least ordered extra small normally small since seems run long think neckline uniqu = 2\n",
            "i love blouse great work cardigan great going skirt pants jeans tts flattering light weight comfort = 2\n",
            "saw line bought right away perfect romper summer color great fabric soft like cloth stone chambray fits pretty true size maybe little small putting think stretch little want baggy fits great hips booty looks good wear flip flops sandals wedge also got made deal even bett = 2\n",
            "based strength reviews thought sweater would amazing disappointed knit thin cheap looking weak last season undamaged reminds duster bought years ago discount fast fashion retailer student sloppy looking lots creases package collar odd sleeve openings annoying flare drape structured enough everything screams priced bath = 0\n",
            "i loved jacket tried store brought home size med nice weight material lined classy liked idea adding collection suit jackets business meetings tried using actual outfits closet realized much looked like lab coat giving goes sale order small see flattering point go = 2\n",
            "love love love lbs b athletic frame fairly narrow hips bought xs red usually retailer dresses although occasionally slimmer dresses found top part dress required size xs low back design dress fit loosely size hung showed bra straps sleeves tad baggy arms showing bra underneath guess = 2\n",
            "while styling cute fit poor arms quite gap return = 0\n",
            "i pants blue grey color like much got olive wash well fit perfectly easy throw look great = 2\n",
            "this shirt gorgeous bought engagement party got lots compliments thing negative particular shirt bought one stones sleeve prongs bent snagged beautiful embroidery front shirt course local retailer exchanged perfect new one without hassle expensive shirt perfect special occas = 2\n",
            "i fell love dress saw online due slim fit ordered size petite normal petite received surprised two things material kind puffy bad weird big top rare petite size even though fit everywhere else wanted love return would gorgeous someone els = 1\n",
            "finally saw dress online say looks better person model might tall dress right ankle color nice white material good quality overall cut nice kind classic feeling could wear long time without going styl = 2\n",
            "this shirt gorgeous first glance quality beautiful design front huge billowy back pleats cannot imagine flattering anyone adds much volume top thin petite maybe issue see adding much volume total miss shame would great without extra volume back = 2\n",
            "just grabbed today great find paired white blouse blue polka dots pair anything though great neutral colors white blue jean jackets sweaters skirt little stretch hourglass figure would work type body think many season skirt perfect travel = 2\n",
            "the shirt quite beautiful lace thick high quality however short ish torso hourglass figure shirt added lbs peplum fabric waist hung awkwardly poofed maybe would work better taller person one straighter build = 1\n",
            "love bright color dress spring loose fit light material comfort = 2\n",
            "so ordered like amadi dreses general curious hte long one would fit love really comfortable color pretty neitral material thick enough fall california winters cold spring days dressed little nice heeled booties less lbs curious worked petite xs say go = 2\n",
            "i ordered xs petite think better ordered xxs already sold time purchased recommend one size smaller sweater sweater designed wide shoulder could fallen people usually prefer petite size really ador = 2\n",
            "well snails really make cardigan special buttons open work stitching nice fabric soft warm note sizing though style runs short torso long sleeves petite like considering buying regular size petite sold fine torso length roll scrunch sleeves bad fabric soft easy push sleev = 2\n",
            "i purchased dress wear wedding june lbs bought size fit like glove even wear bra quality beautiful fabric stitching detail top notch well worth price way seaming hits hips flattering especially girls may curvy accentuates curves sure reminds old hollywood wiggle dress said dress h = 2\n",
            "i love everything bordeaux saw one knew needed try favorite top brand ever hope keep style offer colors going forward flattering style anyone accentuates shape without tight clingy stripes lovely also material soft washed yet hope stands wash wear well overall amazing top runs slightly large usually xs top = 2\n",
            "very pretty top runs bit large generally take xs xs top fits little longer larger model comfortable easy wear nice cut angled front bit longer back develop small hole quickly thinner tissue tees hoping unusual buy two different colors tee shirt totally disappointed happens especially pric = 2\n",
            "this dress super comfy really cute worried horizontal stripes might flattering make look larger great casual wear easily dressed jacket booti = 2\n",
            "love blouse took chance ordering sure would think blouse fabulous boho chic flair sophisticated way one special pieces retailer elegant quirky sophisticated details great course embroidery beautiful couple fun details cuffs sleeve multiple buttons button tight enough roll cuff cuff r = 2\n",
            "not dress incredibly comfortable accessorized occasion jazzed wedding cardigan flats also makes easy saturday perfect way dress could improved pocket = 2\n",
            "what cute top would say true size pullover went easy dressing scalloped tank around shoulders unique lays nicely would say top lined cut swingy great length left tucked think many uses top may grab another keep hand adorable skirts short = 2\n",
            "based reviews top ran large ordered online two sizes seemed fit alright chest although chest fit tighter smaller size much big bottom front bottom shirt series pleats bottom top really really really flared away hips length seemed fine material thin could see nude bra white pattern = 1\n",
            "fits great super comfortable love dress = 2\n",
            "just recd neutral navy size usual size tops retailer heads way oversized arms fashion world probably falls category dolman style sleeve also fabric nubby like pilled look similar fabric warm pullover recently saw store feeling may new trend ok w oversized underarms nubby fabric order hesitant wait visit store love look = 2\n",
            "extremely flattering easy dress wear good choice day even = 2\n",
            "i love dress fit incredibly flattering currently carrying weight normal size selected size larger normal perfect fit tried larger size measure provided perfect fit flare worn dress three occasions already time friends remarked admiration dress flattering style issues cut bia = 2\n",
            "this gorgeous dress really bloom eyes silk light airy delicate bodice runs large length runs long wear highest platforms would return exquisite piece art = 2\n",
            "this shirt fits well flattering really pretty pattern lace adds romantic touch sets apart also incredibly soft comfort = 2\n",
            "this well made blouse pretty neckline print sleeves makes look really wide odd look = 1\n",
            "i short curvy baby love cape super comfy warm warm couple weeks go running around day description says grey reads tiny bit green like light camo green slight still pairs well everything usu med got xs slouchy anyway med looked big should = 2\n",
            "i finally able order xs petite typical size adn received previously tried xs regular much fabric foot inches adn lbs petite fit still felt like swing lot fabric classic cut snug chest able wear sweater underneath overal like decided returrn = 2\n",
            "i got white lace top love quality great price comfortable lace super delicate seems like last = 2\n",
            "it seems like people love tee might well returned like front hung front long back would kept front short enough wear thick pants untucked might kept seems like top would look good leggings skirts like material though thin looks great shoulder neck area liked back shirt looked tried wear = 2\n",
            "the dress looks great winter summer either paired tights light jacket runs true size able buy online fabric great day wear wrinkle much con darts breasts little pointy taste still love dress = 2\n",
            "this top beautiful feminine detail flattering first time wore got compliments would definitely recommend = 2\n",
            "so simple throw jeans could dress ruffles give little extra flair nice soft really comfy decided size going hold onto ordered small medium small fits great usually pretty standard medium think depends look going wish lighter color like ivory pink think ruffle detail would look nice lighter shad = 2\n",
            "i absolutely love sweater great quality sweater dress beautiful color comfy warm never want take definitely one favorite purchases retail = 2\n",
            "there comes point draw line things purchase ordered black skirt thought ti special enough get wrong fits nicely comfortable wowed p xs p fir perfectly waist lbs want ta nice casual skirt sale price good fir skirt enough = 2\n",
            "beautiful comfortable although lot looser bottom pictured slit sides quite high deal breakers though = 2\n",
            "i found retailer store dress left bought black usual size small dress pretty fabulous hot weather material gauzy look casual sure would wear evening fit great tall dress long enough would say length model bit pricey bought birthday gift = 2\n",
            "i love pretty soft shirt falls well want wear everyday = 2\n",
            "this dress gorgeous cut neck arms designed girls slim frame wish worked fabric pattern beautiful sad send back = 2\n",
            "i bought top local retailer burgundy color beautiful feminine want get color store also black one available line bought size sometimes get tops petite felt reg size fit fin = 2\n",
            "i tried dress local retailer pleasantly surprised fit looked cute reviewers mentioned runs small super stretchy especially top portion said accommodated bust g bust possess problem try buy dresses top dress pure elastic works dress stretches top comes back inward body show curves idea bra w = 2\n",
            "i ordered reference lb dd waist fits nicely fairly large chest find pleats laid awkwardly accentuated boobs got purple motif pattern higher neckline may helped keep top looking cute stylish still modest top drapes little model flattering sloppy thanks fabric ju = 2\n",
            "the quality fabric soft thick well made loved everything ample chest snug hang drape well like model may want size sending back fit flattering price someone boyish curve figure would look dynamit = 2\n",
            "i ordered beautiful sweater skirt petite short asymmetrical hemline love geometric pattern skirt gold flecked waistband light sweater material make perfect skirt california fall wint = 2\n",
            "i bought dress whim one day even though sure would wear dress fits beautifully flattering typically size large hips behind smaller waist fit well snugged right places right everywhere else ended wearing benefit received many compliments go = 2\n",
            "straight mail cozy soft adorable charming sweater full little pills love embroidery swingy slightly oversized fit overwhelm high snuggle factor wish came colors knitted less fussy yarn = 2\n",
            "super cute comfortable soft fabric drapes nicely wear orange skirt white shirts jeans get lots compliments top get use expected glad tried nice surpris = 2\n",
            "this sweater adorable got grey pattern got great forgiving fit lots stretch hi low waist thick soft knit quarter sleeves contrasting collar cuffs add interest great jeans dressed pair slacks wait weather cool wear might get colors great bas = 2\n",
            "i wanted love top neckline made look strange untied looked sloppy went back love print though = 0\n",
            "i ordered shirt white coral absolutely love design coral color white bit see returned would cute cami wanted something require extra layer overall flattering fit love detail back = 2\n",
            "ordered dress still recieved went local store today tried size ordered big get size stinks quality good dress comfortable stretch know going return com = 1\n",
            "i bought navy love multi textures look happy sale cute would paid full price runs small plan wearing casual errand day = 2\n",
            "i lbs c bust xs fits great wash everything cold line dry exception took washer knew immediately pulled back shape hung see dry clean want keep = 2\n",
            "if looking perfect shirt add little flare basics one comfy baggy yet still looking like pulled together waiting colors come basically live green white versions shirt = 2\n",
            "this runs way big would recommend sizing least one size possibly got design divers fun light summer soft material comfi = 2\n",
            "i bought blue white one comfortable look blue jeans summer white leggings great quality good pric = 2\n",
            "i tried store immediately loved diaphanous intended look dress meant cool breezy cover design would slightly improved slight tapering waist sleeves everyone carry fuller dress begin anyway purchased many things day narrow picks bit left dress behind kept thinking pretty retailer offered addit = 2\n",
            "for reference lbs small fits nicely style flattering big rib age many back zip styles area bit tight sit bad though ican wear work date colors bit subdued enhance pink blue floral tones sweater jacket jewelri = 2\n",
            "lovely socks great color stitched well little thin = 2\n",
            "this top new favorite ordered whim oh boy glad excited shipped arrived wait put put wait show great bluish grayish color looks great big hoop earrings shorts sandals easy classic simple shirt probably wear much = 2\n",
            "i ordered xxs p actual cardigan xs p bummed xxs p sold well fits ok anyway lbs dd waist beautiful sweater oh itchy think wool listed first like ingredients really itchy torn want keep nice itchy try long sleeve shirt underneath think hang ah short sleeve sleeveless colors pattern warm neutral r = 2\n",
            "i love style reminds used wear back cute flattering material high quality look good skinny boot cut jeans like baby doll style lov = 2\n",
            "i normally small retailer tops could tell would run big glad sized extra small top flowy airy without baggy colors summery beautiful complaint bit sheer see outline bra front wear cami underneath = 2\n",
            "so glad see high waisted jeans soft comfortable raw edge hem makes edgy enough = 2\n",
            "i love tee long waisted many tops right shorter side look silly happy find b bought xs fits perfectly asymmetry darling stripes perfect spring nice weight felt totally worth money looks great far three washes hang dri = 2\n",
            "i really hoping dress would fit perfectly looks beautiful model however put dress seam top portion meets bottom portion made skirt stick ton ordered p lbs maybe ordering dress larger size would prevent skirt looking full top = 1\n",
            "this unflattering peplum top ever tried fit perfectly size arms shoulder chest waist huge hung like flour sack wider chest measurements made appear frumpy instead tailored classic combine high low hemline looked like project runway reject sent back immediately buy want appear hourglass figure noth = 0\n",
            "after reading reviews hoping able try store able try xxs xs store sale rack tried usually take xs small sweaters funny xxs seemed little longer front fit nicer reading others review sweater thought sure would super short xxs goes show always try first feel sleeves l = 2\n",
            "this top large like free people got extra small washed right away put dryer soft perfect comfortable go top jeans pj bottoms leggings love pocket cell phone fits perfectly ordering color reference pound = 2\n",
            "i tried blouse loved style comfort color peach much preparing buy pulled sleeve fabric came away cuff tested another spot pulling gently thing happened bad since color would great addition also tried blue gets stars fabric much better adorable soft tear gentle testing two blouse colors made differ = 1\n",
            "i admit soft spot anything maeve dress exception overlooked online due white shirt show online material design tex great colors see great fall winter early spring dress material soft sensitive skin love little pop color front piece adds draw back lack pockets runs big got sale siz = 2\n",
            "i adore pants comfortable jammies wear sandals booties every time wear compli = 2\n",
            "i bought tank work color print slightly muted compared photo usually wear xxs xs lbs got xs thinking loose wanted arm holes waist also unusually wide quality fabric nice though heavy thin = 2\n",
            "i athletic legs jeans comfy long enough look good booty photo deceiving much longer wish carried colors hard find jean really like really lik = 2\n",
            "this longer thought would petite ordered grey grey green color absolutely beautiful cute easy top wear = 2\n",
            "love detail white yellow underneath agree reviewer material thin back also flowly top need size however shape fit snuggly around chest arms work accentuated normal body type model type overweight definitely flatter chest area seems like top worked others suggest trying first = 2\n",
            "this frist pair flares love make legs look miles long also comfortable jeans around lbs narrow hips fits perfectly worn inch heels jeans dust floor longer model like look wanted wear flats need hemmed prefer heels anyway ii avoided high rise jeans fear look matronly combined flare high waist = 2\n",
            "this shirt comfortable soft great fit little thin get away wearing lov = 2\n",
            "i eyeing dress months went sale finally purchased see sale dress runs extremely large shape looks like potatoe sack feel like moo moo going back stor = 0\n",
            "these great casual comfy pants summer lbs usually pants reg better fit p = 2\n",
            "pros soft quality top true size would look great little tucked shoulder reality hard keep shoulders sliding least looked really meh kind dumpy normally medium bought medium fit good billowy accurately displayed pictures hour glass shaped gal need tuck front accessorize give little shape really liked feel = 2\n",
            "my sister gave top christmas perfect find grabbing constantly usually xsp xxs fits perfectly wear leggings jean = 2\n",
            "loved design quality suit cups seemed huge weight lbs wear c bought large suit reviews said ran small normally wear size medium like fit everywhere expect chest wondering medium still large chest hoping rest would still fit okay sure want go hassle exchange fit cute otherwise would perfect la = 2\n",
            "i took advantage summer tag sale bought tops including one eyeing online quite time pretty excited get good price came mail day like christmas morning see retailer package door however time great top fine average best top fits true size maybe pattern cut work well body recommend trying first = 2\n",
            "this hoodie hoped would super soft comfortably loose tie bottom hugging hips low v neck right amount sexy go fall wint = 2\n",
            "i pretty obsessed wish could get many patterns fit ultra comfortable true size style allows put shirt sweater cardigan whatever look completely put together got loads compliments first day wor = 2\n",
            "i kept size dress return roomy arms chest great material nice much material hangs nice swing another win = 2\n",
            "if ever perfect feminine dress would = 2\n",
            "i bought sweater freshen fall wardrobe love adds texture warmth every outfit = 2\n",
            "i love saw online arrived today fit great disappointed colors definitely drab person pictured photo material thick soft warm cold weather sure liked underwhelming less expensive would probably keep liked fit quirky alternative usually wear work sadly back go = 2\n",
            "this shirt weird fit like photo seems missing stitch something top wide open bottom meets layer could wear tank camisole underneath still fit right large chest ridiculous beyond red color okay even though purchased sale worth price return = 0\n",
            "this dress absolutely beautiful person end working wear fit g chest waistline sit low enough bust instead natural waist really wanted work think would great right person seemed tts love detail = 2\n",
            "these pants like dissappointed color great fabric look closely model pants fit either small decided whether take back losing weight far pants like need color go perfectly top bought retail = 2\n",
            "this really pretty print decent top reason returned look good skin tone fabric thin planned use later cardigan = 2\n",
            "i pretty much love sweater moth one exception soft lofty pretty shade bought pink cold weather stapl = 2\n",
            "this third jumpsuit ordered written review season jumpsuit best far bought usual size small fit even though tall would say looks much model maybe inch shorter legs love legs rolled tab snap uncomfortable elasticized legs legs long torso usually wear inseam flats jumpsuit easy g = 2\n",
            "did work whatsoever stripes adorable piece fit like model collar practically choking tie make figure look way normally aka looked frumpy chunky going back = 0\n",
            "a pretty blouse polyester fabric makes incredibly warm uncomfortable return = 1\n",
            "i tried top store want buy full price even though made heart skip beat adorable even cuter saw finally went sale got additional immediately ordered flowy comfortable fun wore today layered black turtleneck long black vest = 2\n",
            "tall lbs size fit perfectly like regular hyphen chinos stet chinos pleated ones looked like clown pants pleats widen hips ankle cuff tight compared regular hyphen chinos hated mustard color flatt = 1\n",
            "i thought perfect dress picture ended looking like grandma muumuu color nice neck cute form unflattering trying decide want taylor take back = 0\n",
            "i picked unexpectedly whisked dressing room long handful things today noticed right away soft comfy never owned romper expecting like wrong sorry romper love plan debuting little number cropped cream cardigan jacket taupe booties layered necklaces brother law casual weddingrehearsal dinner living las vegas though definit = 2\n",
            "this blouse stunning wanting time finally broke purchased lbs generally wear size l size bought large need medium sure could get away large flowy think med flattering planning exchange smaller size would recommend blouse sure want buy often times sold = 2\n",
            "when saw dress online immediately passed drawn faint shimmer soft feel store decided try usually xs dresses tried xs b waist fit beautifully comes couple inches knee makes look slim side typical shift dresses plan wearing flats tights booties weather gets cooler would great holiday new years eve dress = 2\n",
            "love blouse great coverage light yes bit sheer nude bra tell great needing look professional hot summer days structure bust waist creates flattering shape love bronze gold buttons black pattern got usually every need size could possibly gone happy freedom movement arms ov = 2\n",
            "this jacket really cute however mesh really fragile jacket month noticed huge tear back shoulder fit tight sure happened every time wear super paranoid snagging something like mentioned jacket cute lightweight design unique want get occasional wearing bother hoping return otherwise lot = 1\n",
            "i love blouse color cheerful small white polka dot design usually wear medium went large shirt slightly sheer likely wear cami underneath = 2\n",
            "exactly needed post pregnancy top comfortable drape hides tummy back hits perfect spot looks great still hides normal bra = 2\n",
            "i chose dress try flatter hourglass figure disappointed fabric beautiful soft fine silk unforgiving cut truly wrap fixed thin elastic waistband short waisted model looks elongated thin line bust created two poofy sections flattering drawn shape body type may better suited another happy hunt = 2\n",
            "i really like pants great color design even lined unfortunately work curvy frame usual problems waist large hips small sadly taking back = 2\n",
            "this fantastic dress fall specific proportions dress comes l rather particular dress sizes assumption large would fit range dress fits well fitted waist zero give top fits strangely even detect model photo tightness clavicle weird abundance fabric waistband still happily wear dress sweaters season = 2\n",
            "there simply ton fabric tee size top fairly thin upper body still retailer often order small swingy tees medium slim cut tee small huge shoulders fit well body big weirdly long length odd especi = 0\n",
            "i bought tunic christmastime full price absolutely adore opinion thick thin got usual size large think fits perfectly side slits perfect skinny jeans leggings flattering vertical stripes fabric also grey color difference two fabrics used construction adds additional visual appeal problems snag = 2\n",
            "bought black xs go larkspur midi dress bother lining skirt portion grrrrrrrrrrr stats xs fit smoothly around chest flowy around lower half would say running big straps pretty could easily nightwear came kne = 2\n",
            "high quality fabric lots bottom back coverage also cut hips fabulous looking little coverage bottom found true size lbs got s = 2\n",
            "overall gorgeous blouse flattering love sleeves unique also flattering love blouse fit flare bust fitted bust tight drapes line style fit blouse truly flattering figure issues inappropriate amounts cleavage showing anything ties weighted end metal tubes really like makes strings drape nicely back drapes beautifully f = 2\n",
            "first let say love fabric pattern blue dress fit extremely loose could take entire inches material would still swing dress photo back model blue dress goes waist accurate would love dress photo model wearing color dress actually hangs straight underarms bigger goes toward hemlin = 2\n",
            "bought whim gift mom fit perfectly loved details complain itching prior review blue gray appearing photo = 2\n",
            "i love blazer perfect work makes great stat = 2\n",
            "i know pay much attention tee yellow saw store thought interesting kept going really looked online suddenly bad case wants one local stores asked surprise sold suggestion sales associate tried solid one size although small several tla tees medium tried medium smal = 1\n",
            "this stylish cardigan runs small usually take small took medium reference lbs chest c fell love put watch snags extremely delicate got today happier purchas = 2\n",
            "i surprised review given said frumpy absolutely adorable classic plaid timeless first reviewer said styling model favors reality form fitting flattering forgiving way waist nips nicely underneath top section flares bottom section bottom flare sometimes add inches pounds top modern subtle flattering fashion mat = 2\n",
            "i four kids post baby bump wants live forever huge fan flowy tops one looked cute online sold passed went store next day saw colors vibrant thought try though excited tried like shirt cinderalla moment totally transformed looked person love one instant buyi = 1\n",
            "i ordered grey yellow comes sun shirt cute runs quite large special enough price meh = 2\n",
            "when ordering product thought strange mediums sold went small generally wear however run small see medium ran pretty however wish made true s = 2\n",
            "the fit dress super flattering normally able wear sheath felt great one definitely pear shape bigger bottom top one things really love dress size fits hips fits top often case sure would work someone large bust apple body type felt great also love colors bought green blue worn = 2\n",
            "i sadly returning dress would recommend soft loved design dress comfortable reason returning due figure fitted dress little revealing would lik = 2\n",
            "this top beautiful person love buttons back fits little boxy like styl = 2\n",
            "i xl retailer tops xl blouse fit wonderfully bought blouse black also probably purchase cream blouse made nicely however deal embroidered pieces knotted take needle thread loose pieces back blouse knot rest embroidery individual flowers came entirely however stunning blouse feel g = 2\n",
            "i really jacket fit nice although slightly large however enough go size different textures really cool details seem pretty slimming always bonus bit worried wool pill like crazy though let hope wrong last = 2\n",
            "this beautiful top however top match one picture odd stripes completely different ok pretty like one pictured better short leggings boots great skinny jeans pretty soft materi = 2\n",
            "i bought dress couple fall weddings hide postpartum belly available size typical size nervous based reviews would still big fits perfectly assume frame handle drappiness wel = 2\n",
            "i snagged first day wore wedding ring delicate wear kids pull much night wrap guess = 2\n",
            "i absolutely loved minute saw quality impeccable fit amazing agree reviewer fabric thick back quality piece amazing women may like extra bulk part body however still hunt perfect white top go thank retailer always providing unique quality piec = 2\n",
            "i love top short hits potentially unflattering area one wider hips fabric swing skirt ador = 2\n",
            "i really wanted love sweater reading reviews received sadly disappointed pretty boxy much shape could cute casual outfits looking dressier sweat = 0\n",
            "love love tunic size fits perfectly little room material soft comfortable could worn leggings belt dress many options worth = 2\n",
            "the back shirt looks cute front looks really weird material back quite stiff grey material soft front gray area ends hanging weirdly looking uneven messy appreciate asymmetrical clothing looked like patched rag front fits true s = 0\n",
            "this vest looked cute online disaster quilting bulky drawstring work properly hangs itlooks like something costume closet could used peasant farmhand zombie movie seriously bad = 0\n",
            "i liked idea diagonal color block fit tee odd tight around arms way big boxy around mid section going back = 0\n",
            "this top easy dress blazer wear casually jeans trainers many nice details great fit = 2\n",
            "this dress beautiful many levels colors print amazing maxi sweater dress idea unique fits true size flattering issue amount shine metallic threads running would preferred less shine would make dress versatil = 2\n",
            "i sew therefore tell something cut designed well top hangs beautifully colors pretty cotton = 2\n",
            "i broad shoulders sometimes wear size depending cut purchased size true fit enough flow give room move much make look larger really fabric us light great quality perfect summer night happy purchas = 2\n",
            "the attention detail aligning pattern excellent always brand tried size fit fine long waist currently narrow hips fuller thighs several cartonnier shorts sizes depending weight fit similarly think size petite would bit lower sold reason passed fabric polyester fusible interfacing keep = 2\n",
            "even following care label exactly shrunk inches length overall diameter return since tall looked like work inappropriate mini first wash = 0\n",
            "love black white dress bottom art print nice sucker flowers also love cut teh tiered hem flatering much amterial upper part covers normal bra whole dress super flowey substantial amterial stretchy days ingest itnended flattering cut waist aame apttern bottom gives nice shape say anything bad regular xs fit would ahv = 2\n",
            "i wish list long time sure whether purchase even hesitated went sale boy glad order crazy comfortable flattering love looks black blue ordered xs xs p decided go petite look super cute fall boots short foot fake leather part concerned first like nothing bad ot say = 2\n",
            "this nice sleeveless button bee design really fun colors make stylish would thought tried pair white shorts half tuck looked great also see paired trousers flared jeans nice addition purchased xs usual size regular length fine stylist also showed tied front wear high waisted pants lbs reference dd = 2\n",
            "this jacket cute details like front pockets color shape size bigger marked felt like sack potato = 2\n",
            "the concept top cool outer fabric nice inner layer sheer long wearing nude colored bra big deal however find inner layer scratchy must photoshopped fit top model altered top looks like hangs straight ordered xs pull package clearly flares line previous reviewer stated looks huge front fit = 1\n",
            "i love skirt happy see stores great color fall fit great flat stomach elastic makes comfortable wear material good quality skirt adds perfect pop color closet = 2\n",
            "i shorter woman typically size large purchased dress large flattering fits well good length wel = 2\n",
            "i bought shirt intentions using nursing top effect happy purchase get lot use bought two blush one blue time however surprised shirt open loose thought deep v neck design actually really opens hook eye undone top exposed nothing opened front shirt convenient nursing moth = 1\n",
            "thought would great laid back wedding new mexico fit barely fit chest arms flattering material seem breakthable return better luck next tim = 1\n",
            "i ordered one color size xl fit true size matches model photos lot material flowy shrunk air drying colors pretty person white bright decided keep mine even though truthfully unflattering wear way sleeves slightly gathered cut make shoulders arms look huge shape pull wearing home summer worth = 1\n",
            "this shirt perfect small shoulders pear shaped flare bottom welcomed body type bought colors similar shirt retailer years ago multicolor wear time thankful repeated design also get sale realistic price quality shirt = 2\n",
            "i bought cardigan grey sturdy soft great layering sweater top even heavier sweater tail back long unique shape flattering lighter cardigan substantial others sleeves long enough long arms lov = 2\n",
            "purchased top medium normally wear medium however could probably ordered small sleeves long full around bottom love gold color = 2\n",
            "nice shirt print nice fabric soft flowing love baseball cut gives different look = 2\n",
            "this top much prettier dress run tad large lbs usually small medium usually medium went small loved fit still pretty flowy medium would big tunic runs kind long tiny bit long still wear lot = 2\n",
            "i reservations top based reviews looked cute model took chances athletic build model thin dumpy either top made look frumpy matronly sleeves especially unflattering purchased ps might done better px = 0\n",
            "i agree reviewer belted part definitely gives great definition defined waist much lovelier color person thoughts pros tts ordered medium c frame found sufficient color much nicer person reviewer mentioned richer brown think mocha latte terms color belt really helps tie together keep = 2\n",
            "i several pairs coh love saw go sale size quickly purchased however tried home looked mirror pretty shocked back pockets extremely long meaning go well butt cheeks like means look like sitting low body actually little higher waisted coh thought perhaps perception day wait = 2\n",
            "if tall dress sits high waisted makes waist look big also kind thin material top stretchy even though small chested made shoulders chest look large good way words dress made look fat length bad taller gals worth = 1\n"
          ]
        }
      ]
    },
    {
      "cell_type": "markdown",
      "source": [
        "### Evaluation"
      ],
      "metadata": {
        "id": "1s5_6yXoURK1"
      }
    },
    {
      "cell_type": "code",
      "source": [
        "y_pred = []\n",
        "for texts in test_texts:\n",
        "  y_pred.append(predict(texts))"
      ],
      "metadata": {
        "id": "Q1irZ5w6TjN_"
      },
      "execution_count": 34,
      "outputs": []
    },
    {
      "cell_type": "code",
      "source": [
        "data_pred = pd.DataFrame({\n",
        "    \"text\":test_texts,\n",
        "    \"prediksi\":y_pred\n",
        "})"
      ],
      "metadata": {
        "id": "uLLSBcvhrECG"
      },
      "execution_count": 35,
      "outputs": []
    },
    {
      "cell_type": "code",
      "source": [
        "data_pred"
      ],
      "metadata": {
        "colab": {
          "base_uri": "https://localhost:8080/",
          "height": 423
        },
        "id": "2yA_0ibNrzdJ",
        "outputId": "bcbeee86-dcaf-4bba-f726-75131426231c"
      },
      "execution_count": 36,
      "outputs": [
        {
          "output_type": "execute_result",
          "data": {
            "text/plain": [
              "                                                  text  prediksi\n",
              "0    such pleasant surprise saw store try looks fee...         2\n",
              "1    this great beach pool lounge piece debated kee...         2\n",
              "2    just review dress beautiful fabric light soft ...         2\n",
              "3    this absolutely fabulous skirt cant wait wear ...         2\n",
              "4    i purchased violet chino local store color plu...         2\n",
              "..                                                 ...       ...\n",
              "172  this top much prettier dress run tad large lbs...         2\n",
              "173  i reservations top based reviews looked cute m...         0\n",
              "174  i agree reviewer belted part definitely gives ...         2\n",
              "175  i several pairs coh love saw go sale size quic...         2\n",
              "176  if tall dress sits high waisted makes waist lo...         1\n",
              "\n",
              "[177 rows x 2 columns]"
            ],
            "text/html": [
              "\n",
              "  <div id=\"df-730e3214-6d2e-4f78-886e-1df1cda9d51d\" class=\"colab-df-container\">\n",
              "    <div>\n",
              "<style scoped>\n",
              "    .dataframe tbody tr th:only-of-type {\n",
              "        vertical-align: middle;\n",
              "    }\n",
              "\n",
              "    .dataframe tbody tr th {\n",
              "        vertical-align: top;\n",
              "    }\n",
              "\n",
              "    .dataframe thead th {\n",
              "        text-align: right;\n",
              "    }\n",
              "</style>\n",
              "<table border=\"1\" class=\"dataframe\">\n",
              "  <thead>\n",
              "    <tr style=\"text-align: right;\">\n",
              "      <th></th>\n",
              "      <th>text</th>\n",
              "      <th>prediksi</th>\n",
              "    </tr>\n",
              "  </thead>\n",
              "  <tbody>\n",
              "    <tr>\n",
              "      <th>0</th>\n",
              "      <td>such pleasant surprise saw store try looks fee...</td>\n",
              "      <td>2</td>\n",
              "    </tr>\n",
              "    <tr>\n",
              "      <th>1</th>\n",
              "      <td>this great beach pool lounge piece debated kee...</td>\n",
              "      <td>2</td>\n",
              "    </tr>\n",
              "    <tr>\n",
              "      <th>2</th>\n",
              "      <td>just review dress beautiful fabric light soft ...</td>\n",
              "      <td>2</td>\n",
              "    </tr>\n",
              "    <tr>\n",
              "      <th>3</th>\n",
              "      <td>this absolutely fabulous skirt cant wait wear ...</td>\n",
              "      <td>2</td>\n",
              "    </tr>\n",
              "    <tr>\n",
              "      <th>4</th>\n",
              "      <td>i purchased violet chino local store color plu...</td>\n",
              "      <td>2</td>\n",
              "    </tr>\n",
              "    <tr>\n",
              "      <th>...</th>\n",
              "      <td>...</td>\n",
              "      <td>...</td>\n",
              "    </tr>\n",
              "    <tr>\n",
              "      <th>172</th>\n",
              "      <td>this top much prettier dress run tad large lbs...</td>\n",
              "      <td>2</td>\n",
              "    </tr>\n",
              "    <tr>\n",
              "      <th>173</th>\n",
              "      <td>i reservations top based reviews looked cute m...</td>\n",
              "      <td>0</td>\n",
              "    </tr>\n",
              "    <tr>\n",
              "      <th>174</th>\n",
              "      <td>i agree reviewer belted part definitely gives ...</td>\n",
              "      <td>2</td>\n",
              "    </tr>\n",
              "    <tr>\n",
              "      <th>175</th>\n",
              "      <td>i several pairs coh love saw go sale size quic...</td>\n",
              "      <td>2</td>\n",
              "    </tr>\n",
              "    <tr>\n",
              "      <th>176</th>\n",
              "      <td>if tall dress sits high waisted makes waist lo...</td>\n",
              "      <td>1</td>\n",
              "    </tr>\n",
              "  </tbody>\n",
              "</table>\n",
              "<p>177 rows × 2 columns</p>\n",
              "</div>\n",
              "    <div class=\"colab-df-buttons\">\n",
              "\n",
              "  <div class=\"colab-df-container\">\n",
              "    <button class=\"colab-df-convert\" onclick=\"convertToInteractive('df-730e3214-6d2e-4f78-886e-1df1cda9d51d')\"\n",
              "            title=\"Convert this dataframe to an interactive table.\"\n",
              "            style=\"display:none;\">\n",
              "\n",
              "  <svg xmlns=\"http://www.w3.org/2000/svg\" height=\"24px\" viewBox=\"0 -960 960 960\">\n",
              "    <path d=\"M120-120v-720h720v720H120Zm60-500h600v-160H180v160Zm220 220h160v-160H400v160Zm0 220h160v-160H400v160ZM180-400h160v-160H180v160Zm440 0h160v-160H620v160ZM180-180h160v-160H180v160Zm440 0h160v-160H620v160Z\"/>\n",
              "  </svg>\n",
              "    </button>\n",
              "\n",
              "  <style>\n",
              "    .colab-df-container {\n",
              "      display:flex;\n",
              "      gap: 12px;\n",
              "    }\n",
              "\n",
              "    .colab-df-convert {\n",
              "      background-color: #E8F0FE;\n",
              "      border: none;\n",
              "      border-radius: 50%;\n",
              "      cursor: pointer;\n",
              "      display: none;\n",
              "      fill: #1967D2;\n",
              "      height: 32px;\n",
              "      padding: 0 0 0 0;\n",
              "      width: 32px;\n",
              "    }\n",
              "\n",
              "    .colab-df-convert:hover {\n",
              "      background-color: #E2EBFA;\n",
              "      box-shadow: 0px 1px 2px rgba(60, 64, 67, 0.3), 0px 1px 3px 1px rgba(60, 64, 67, 0.15);\n",
              "      fill: #174EA6;\n",
              "    }\n",
              "\n",
              "    .colab-df-buttons div {\n",
              "      margin-bottom: 4px;\n",
              "    }\n",
              "\n",
              "    [theme=dark] .colab-df-convert {\n",
              "      background-color: #3B4455;\n",
              "      fill: #D2E3FC;\n",
              "    }\n",
              "\n",
              "    [theme=dark] .colab-df-convert:hover {\n",
              "      background-color: #434B5C;\n",
              "      box-shadow: 0px 1px 3px 1px rgba(0, 0, 0, 0.15);\n",
              "      filter: drop-shadow(0px 1px 2px rgba(0, 0, 0, 0.3));\n",
              "      fill: #FFFFFF;\n",
              "    }\n",
              "  </style>\n",
              "\n",
              "    <script>\n",
              "      const buttonEl =\n",
              "        document.querySelector('#df-730e3214-6d2e-4f78-886e-1df1cda9d51d button.colab-df-convert');\n",
              "      buttonEl.style.display =\n",
              "        google.colab.kernel.accessAllowed ? 'block' : 'none';\n",
              "\n",
              "      async function convertToInteractive(key) {\n",
              "        const element = document.querySelector('#df-730e3214-6d2e-4f78-886e-1df1cda9d51d');\n",
              "        const dataTable =\n",
              "          await google.colab.kernel.invokeFunction('convertToInteractive',\n",
              "                                                    [key], {});\n",
              "        if (!dataTable) return;\n",
              "\n",
              "        const docLinkHtml = 'Like what you see? Visit the ' +\n",
              "          '<a target=\"_blank\" href=https://colab.research.google.com/notebooks/data_table.ipynb>data table notebook</a>'\n",
              "          + ' to learn more about interactive tables.';\n",
              "        element.innerHTML = '';\n",
              "        dataTable['output_type'] = 'display_data';\n",
              "        await google.colab.output.renderOutput(dataTable, element);\n",
              "        const docLink = document.createElement('div');\n",
              "        docLink.innerHTML = docLinkHtml;\n",
              "        element.appendChild(docLink);\n",
              "      }\n",
              "    </script>\n",
              "  </div>\n",
              "\n",
              "\n",
              "<div id=\"df-0239da52-ae72-4db2-8e76-bff9e7bac2e0\">\n",
              "  <button class=\"colab-df-quickchart\" onclick=\"quickchart('df-0239da52-ae72-4db2-8e76-bff9e7bac2e0')\"\n",
              "            title=\"Suggest charts\"\n",
              "            style=\"display:none;\">\n",
              "\n",
              "<svg xmlns=\"http://www.w3.org/2000/svg\" height=\"24px\"viewBox=\"0 0 24 24\"\n",
              "     width=\"24px\">\n",
              "    <g>\n",
              "        <path d=\"M19 3H5c-1.1 0-2 .9-2 2v14c0 1.1.9 2 2 2h14c1.1 0 2-.9 2-2V5c0-1.1-.9-2-2-2zM9 17H7v-7h2v7zm4 0h-2V7h2v10zm4 0h-2v-4h2v4z\"/>\n",
              "    </g>\n",
              "</svg>\n",
              "  </button>\n",
              "\n",
              "<style>\n",
              "  .colab-df-quickchart {\n",
              "      --bg-color: #E8F0FE;\n",
              "      --fill-color: #1967D2;\n",
              "      --hover-bg-color: #E2EBFA;\n",
              "      --hover-fill-color: #174EA6;\n",
              "      --disabled-fill-color: #AAA;\n",
              "      --disabled-bg-color: #DDD;\n",
              "  }\n",
              "\n",
              "  [theme=dark] .colab-df-quickchart {\n",
              "      --bg-color: #3B4455;\n",
              "      --fill-color: #D2E3FC;\n",
              "      --hover-bg-color: #434B5C;\n",
              "      --hover-fill-color: #FFFFFF;\n",
              "      --disabled-bg-color: #3B4455;\n",
              "      --disabled-fill-color: #666;\n",
              "  }\n",
              "\n",
              "  .colab-df-quickchart {\n",
              "    background-color: var(--bg-color);\n",
              "    border: none;\n",
              "    border-radius: 50%;\n",
              "    cursor: pointer;\n",
              "    display: none;\n",
              "    fill: var(--fill-color);\n",
              "    height: 32px;\n",
              "    padding: 0;\n",
              "    width: 32px;\n",
              "  }\n",
              "\n",
              "  .colab-df-quickchart:hover {\n",
              "    background-color: var(--hover-bg-color);\n",
              "    box-shadow: 0 1px 2px rgba(60, 64, 67, 0.3), 0 1px 3px 1px rgba(60, 64, 67, 0.15);\n",
              "    fill: var(--button-hover-fill-color);\n",
              "  }\n",
              "\n",
              "  .colab-df-quickchart-complete:disabled,\n",
              "  .colab-df-quickchart-complete:disabled:hover {\n",
              "    background-color: var(--disabled-bg-color);\n",
              "    fill: var(--disabled-fill-color);\n",
              "    box-shadow: none;\n",
              "  }\n",
              "\n",
              "  .colab-df-spinner {\n",
              "    border: 2px solid var(--fill-color);\n",
              "    border-color: transparent;\n",
              "    border-bottom-color: var(--fill-color);\n",
              "    animation:\n",
              "      spin 1s steps(1) infinite;\n",
              "  }\n",
              "\n",
              "  @keyframes spin {\n",
              "    0% {\n",
              "      border-color: transparent;\n",
              "      border-bottom-color: var(--fill-color);\n",
              "      border-left-color: var(--fill-color);\n",
              "    }\n",
              "    20% {\n",
              "      border-color: transparent;\n",
              "      border-left-color: var(--fill-color);\n",
              "      border-top-color: var(--fill-color);\n",
              "    }\n",
              "    30% {\n",
              "      border-color: transparent;\n",
              "      border-left-color: var(--fill-color);\n",
              "      border-top-color: var(--fill-color);\n",
              "      border-right-color: var(--fill-color);\n",
              "    }\n",
              "    40% {\n",
              "      border-color: transparent;\n",
              "      border-right-color: var(--fill-color);\n",
              "      border-top-color: var(--fill-color);\n",
              "    }\n",
              "    60% {\n",
              "      border-color: transparent;\n",
              "      border-right-color: var(--fill-color);\n",
              "    }\n",
              "    80% {\n",
              "      border-color: transparent;\n",
              "      border-right-color: var(--fill-color);\n",
              "      border-bottom-color: var(--fill-color);\n",
              "    }\n",
              "    90% {\n",
              "      border-color: transparent;\n",
              "      border-bottom-color: var(--fill-color);\n",
              "    }\n",
              "  }\n",
              "</style>\n",
              "\n",
              "  <script>\n",
              "    async function quickchart(key) {\n",
              "      const quickchartButtonEl =\n",
              "        document.querySelector('#' + key + ' button');\n",
              "      quickchartButtonEl.disabled = true;  // To prevent multiple clicks.\n",
              "      quickchartButtonEl.classList.add('colab-df-spinner');\n",
              "      try {\n",
              "        const charts = await google.colab.kernel.invokeFunction(\n",
              "            'suggestCharts', [key], {});\n",
              "      } catch (error) {\n",
              "        console.error('Error during call to suggestCharts:', error);\n",
              "      }\n",
              "      quickchartButtonEl.classList.remove('colab-df-spinner');\n",
              "      quickchartButtonEl.classList.add('colab-df-quickchart-complete');\n",
              "    }\n",
              "    (() => {\n",
              "      let quickchartButtonEl =\n",
              "        document.querySelector('#df-0239da52-ae72-4db2-8e76-bff9e7bac2e0 button');\n",
              "      quickchartButtonEl.style.display =\n",
              "        google.colab.kernel.accessAllowed ? 'block' : 'none';\n",
              "    })();\n",
              "  </script>\n",
              "</div>\n",
              "\n",
              "  <div id=\"id_10407589-b059-455c-8d71-c608a8457ca5\">\n",
              "    <style>\n",
              "      .colab-df-generate {\n",
              "        background-color: #E8F0FE;\n",
              "        border: none;\n",
              "        border-radius: 50%;\n",
              "        cursor: pointer;\n",
              "        display: none;\n",
              "        fill: #1967D2;\n",
              "        height: 32px;\n",
              "        padding: 0 0 0 0;\n",
              "        width: 32px;\n",
              "      }\n",
              "\n",
              "      .colab-df-generate:hover {\n",
              "        background-color: #E2EBFA;\n",
              "        box-shadow: 0px 1px 2px rgba(60, 64, 67, 0.3), 0px 1px 3px 1px rgba(60, 64, 67, 0.15);\n",
              "        fill: #174EA6;\n",
              "      }\n",
              "\n",
              "      [theme=dark] .colab-df-generate {\n",
              "        background-color: #3B4455;\n",
              "        fill: #D2E3FC;\n",
              "      }\n",
              "\n",
              "      [theme=dark] .colab-df-generate:hover {\n",
              "        background-color: #434B5C;\n",
              "        box-shadow: 0px 1px 3px 1px rgba(0, 0, 0, 0.15);\n",
              "        filter: drop-shadow(0px 1px 2px rgba(0, 0, 0, 0.3));\n",
              "        fill: #FFFFFF;\n",
              "      }\n",
              "    </style>\n",
              "    <button class=\"colab-df-generate\" onclick=\"generateWithVariable('data_pred')\"\n",
              "            title=\"Generate code using this dataframe.\"\n",
              "            style=\"display:none;\">\n",
              "\n",
              "  <svg xmlns=\"http://www.w3.org/2000/svg\" height=\"24px\"viewBox=\"0 0 24 24\"\n",
              "       width=\"24px\">\n",
              "    <path d=\"M7,19H8.4L18.45,9,17,7.55,7,17.6ZM5,21V16.75L18.45,3.32a2,2,0,0,1,2.83,0l1.4,1.43a1.91,1.91,0,0,1,.58,1.4,1.91,1.91,0,0,1-.58,1.4L9.25,21ZM18.45,9,17,7.55Zm-12,3A5.31,5.31,0,0,0,4.9,8.1,5.31,5.31,0,0,0,1,6.5,5.31,5.31,0,0,0,4.9,4.9,5.31,5.31,0,0,0,6.5,1,5.31,5.31,0,0,0,8.1,4.9,5.31,5.31,0,0,0,12,6.5,5.46,5.46,0,0,0,6.5,12Z\"/>\n",
              "  </svg>\n",
              "    </button>\n",
              "    <script>\n",
              "      (() => {\n",
              "      const buttonEl =\n",
              "        document.querySelector('#id_10407589-b059-455c-8d71-c608a8457ca5 button.colab-df-generate');\n",
              "      buttonEl.style.display =\n",
              "        google.colab.kernel.accessAllowed ? 'block' : 'none';\n",
              "\n",
              "      buttonEl.onclick = () => {\n",
              "        google.colab.notebook.generateWithVariable('data_pred');\n",
              "      }\n",
              "      })();\n",
              "    </script>\n",
              "  </div>\n",
              "\n",
              "    </div>\n",
              "  </div>\n"
            ],
            "application/vnd.google.colaboratory.intrinsic+json": {
              "type": "dataframe",
              "variable_name": "data_pred",
              "summary": "{\n  \"name\": \"data_pred\",\n  \"rows\": 177,\n  \"fields\": [\n    {\n      \"column\": \"text\",\n      \"properties\": {\n        \"dtype\": \"string\",\n        \"num_unique_values\": 177,\n        \"samples\": [\n          \"love bright color dress spring loose fit light material comfort\",\n          \"i absolutely love sweater great quality sweater dress beautiful color comfy warm never want take definitely one favorite purchases retail\",\n          \"this top beautiful person love buttons back fits little boxy like styl\"\n        ],\n        \"semantic_type\": \"\",\n        \"description\": \"\"\n      }\n    },\n    {\n      \"column\": \"prediksi\",\n      \"properties\": {\n        \"dtype\": \"number\",\n        \"std\": 0,\n        \"min\": 0,\n        \"max\": 2,\n        \"num_unique_values\": 3,\n        \"samples\": [\n          2,\n          0,\n          1\n        ],\n        \"semantic_type\": \"\",\n        \"description\": \"\"\n      }\n    }\n  ]\n}"
            }
          },
          "metadata": {},
          "execution_count": 36
        }
      ]
    },
    {
      "cell_type": "code",
      "source": [
        "from sklearn.metrics import classification_report"
      ],
      "metadata": {
        "id": "KJ25q2bcUjNz"
      },
      "execution_count": 37,
      "outputs": []
    },
    {
      "cell_type": "code",
      "source": [
        "print(classification_report(test_labels,y_pred))"
      ],
      "metadata": {
        "colab": {
          "base_uri": "https://localhost:8080/"
        },
        "id": "4X2L6P5GWyTC",
        "outputId": "555c3482-aa8f-4a04-cc80-1e714bccfa49"
      },
      "execution_count": 38,
      "outputs": [
        {
          "output_type": "stream",
          "name": "stdout",
          "text": [
            "              precision    recall  f1-score   support\n",
            "\n",
            "           0       0.53      0.47      0.50        17\n",
            "           1       0.59      0.29      0.39        34\n",
            "           2       0.84      0.97      0.90       126\n",
            "\n",
            "    accuracy                           0.79       177\n",
            "   macro avg       0.65      0.58      0.60       177\n",
            "weighted avg       0.76      0.79      0.76       177\n",
            "\n"
          ]
        }
      ]
    },
    {
      "cell_type": "code",
      "source": [
        "!zip -r /content/model_load.zip /content/Multitext_Classification_colab\n"
      ],
      "metadata": {
        "colab": {
          "base_uri": "https://localhost:8080/"
        },
        "id": "PQ2SDlZxsFya",
        "outputId": "47f3ed32-047e-48fc-d6d1-2ba41e072ccc"
      },
      "execution_count": 39,
      "outputs": [
        {
          "output_type": "stream",
          "name": "stdout",
          "text": [
            "  adding: content/Multitext_Classification_colab/ (stored 0%)\n",
            "  adding: content/Multitext_Classification_colab/special_tokens_map.json (deflated 42%)\n",
            "  adding: content/Multitext_Classification_colab/tf_model.h5 (deflated 8%)\n",
            "  adding: content/Multitext_Classification_colab/config.json (deflated 48%)\n",
            "  adding: content/Multitext_Classification_colab/vocab.txt (deflated 53%)\n",
            "  adding: content/Multitext_Classification_colab/tokenizer_config.json (deflated 75%)\n"
          ]
        }
      ]
    },
    {
      "cell_type": "code",
      "source": [
        "from google.colab import files\n",
        "files.download(\"/content/model_load.zip\")"
      ],
      "metadata": {
        "colab": {
          "base_uri": "https://localhost:8080/",
          "height": 34
        },
        "id": "v5qAQAtlsbhZ",
        "outputId": "79fa0342-7985-45a5-a3d5-e071f9e33ce0"
      },
      "execution_count": 40,
      "outputs": [
        {
          "output_type": "display_data",
          "data": {
            "text/plain": [
              "<IPython.core.display.Javascript object>"
            ],
            "application/javascript": [
              "\n",
              "    async function download(id, filename, size) {\n",
              "      if (!google.colab.kernel.accessAllowed) {\n",
              "        return;\n",
              "      }\n",
              "      const div = document.createElement('div');\n",
              "      const label = document.createElement('label');\n",
              "      label.textContent = `Downloading \"${filename}\": `;\n",
              "      div.appendChild(label);\n",
              "      const progress = document.createElement('progress');\n",
              "      progress.max = size;\n",
              "      div.appendChild(progress);\n",
              "      document.body.appendChild(div);\n",
              "\n",
              "      const buffers = [];\n",
              "      let downloaded = 0;\n",
              "\n",
              "      const channel = await google.colab.kernel.comms.open(id);\n",
              "      // Send a message to notify the kernel that we're ready.\n",
              "      channel.send({})\n",
              "\n",
              "      for await (const message of channel.messages) {\n",
              "        // Send a message to notify the kernel that we're ready.\n",
              "        channel.send({})\n",
              "        if (message.buffers) {\n",
              "          for (const buffer of message.buffers) {\n",
              "            buffers.push(buffer);\n",
              "            downloaded += buffer.byteLength;\n",
              "            progress.value = downloaded;\n",
              "          }\n",
              "        }\n",
              "      }\n",
              "      const blob = new Blob(buffers, {type: 'application/binary'});\n",
              "      const a = document.createElement('a');\n",
              "      a.href = window.URL.createObjectURL(blob);\n",
              "      a.download = filename;\n",
              "      div.appendChild(a);\n",
              "      a.click();\n",
              "      div.remove();\n",
              "    }\n",
              "  "
            ]
          },
          "metadata": {}
        },
        {
          "output_type": "display_data",
          "data": {
            "text/plain": [
              "<IPython.core.display.Javascript object>"
            ],
            "application/javascript": [
              "download(\"download_f699f60c-d90e-4b2b-a7e9-4f51a114d46c\", \"model_load.zip\", 246907501)"
            ]
          },
          "metadata": {}
        }
      ]
    },
    {
      "cell_type": "markdown",
      "metadata": {
        "id": "MeJT2vYJDoYg"
      },
      "source": [
        "# K train"
      ]
    },
    {
      "cell_type": "code",
      "execution_count": 41,
      "metadata": {
        "id": "M4Z9c7PJDoYg"
      },
      "outputs": [],
      "source": [
        "# Loading from ktrain\n",
        "# import os\n",
        "# os.environ[\"TF_USE_LEGACY_KERAS\"] = '1'\n",
        "# from ktrain import text\n",
        "# from ktrain.text import  texts_from_csv"
      ]
    },
    {
      "cell_type": "code",
      "execution_count": 42,
      "metadata": {
        "id": "NCEKim8PDoYj"
      },
      "outputs": [],
      "source": [
        "# df_text = df_text[[\"clean_text\", \"Label\"]]\n",
        "# LABEL_COLUMNS = df_text[\"Label\"].unique().tolist()\n",
        "# TEXT_COLUMNS = df_text[\"clean_text\"]"
      ]
    },
    {
      "cell_type": "code",
      "execution_count": 43,
      "metadata": {
        "id": "20X3C81ODoYk"
      },
      "outputs": [],
      "source": [
        "# LABEL_COLUMNS"
      ]
    },
    {
      "cell_type": "code",
      "execution_count": 44,
      "metadata": {
        "id": "VMMuF-L-DoYk"
      },
      "outputs": [],
      "source": [
        "# df_text.to_csv(\"cleaned_data.csv\")"
      ]
    },
    {
      "cell_type": "code",
      "execution_count": 45,
      "metadata": {
        "id": "PtE5YuLYDoYk"
      },
      "outputs": [],
      "source": [
        "# DATA_PATH = \"cleaned_data.csv\""
      ]
    },
    {
      "cell_type": "code",
      "execution_count": 46,
      "metadata": {
        "id": "Z6wOZfYtDoYk"
      },
      "outputs": [],
      "source": [
        "# train, val, preprocess = texts_from_csv(\n",
        "#     DATA_PATH,\n",
        "#     text_column=\"clean_text\",\n",
        "#     label_columns=[\"Label\"],\n",
        "#     val_filepath=None,\n",
        "#     max_features=20000,\n",
        "#     maxlen=128,\n",
        "#     ngram_range=1,\n",
        "#     preprocess_mode=\"distilbert\",\n",
        "# )"
      ]
    },
    {
      "cell_type": "code",
      "execution_count": 47,
      "metadata": {
        "id": "wLkxR8UYDoYk"
      },
      "outputs": [],
      "source": [
        "# import ktrain"
      ]
    },
    {
      "cell_type": "code",
      "execution_count": 48,
      "metadata": {
        "id": "qkPuzwV4DoYk"
      },
      "outputs": [],
      "source": [
        "# model = ktrain.text.text_classifier('distilbert', train_data=train, preproc=preprocess)\n",
        "# learner = ktrain.get_learner(model, train_data=train, val_data=val, batch_size = 8)"
      ]
    },
    {
      "cell_type": "code",
      "execution_count": 49,
      "metadata": {
        "id": "D2EI4HjHDoYl"
      },
      "outputs": [],
      "source": [
        "# # Using learner.lr_find to optimize the learning rate\n",
        "# learner.lr_find(max_epochs=6)"
      ]
    },
    {
      "cell_type": "code",
      "execution_count": 49,
      "metadata": {
        "id": "sz_pn2XSDoYl"
      },
      "outputs": [],
      "source": []
    },
    {
      "cell_type": "code",
      "execution_count": 49,
      "metadata": {
        "id": "YqZHZBlVDoYl"
      },
      "outputs": [],
      "source": []
    }
  ],
  "metadata": {
    "kernelspec": {
      "display_name": "Python 3",
      "name": "python3"
    },
    "language_info": {
      "codemirror_mode": {
        "name": "ipython",
        "version": 3
      },
      "file_extension": ".py",
      "mimetype": "text/x-python",
      "name": "python",
      "nbconvert_exporter": "python",
      "pygments_lexer": "ipython3",
      "version": "3.12.2"
    },
    "colab": {
      "provenance": [],
      "gpuType": "T4",
      "collapsed_sections": [
        "MeJT2vYJDoYg"
      ]
    },
    "accelerator": "GPU",
    "widgets": {
      "application/vnd.jupyter.widget-state+json": {
        "7c4d9f7c02314c9784c637ac7422d124": {
          "model_module": "@jupyter-widgets/controls",
          "model_name": "HBoxModel",
          "model_module_version": "1.5.0",
          "state": {
            "_dom_classes": [],
            "_model_module": "@jupyter-widgets/controls",
            "_model_module_version": "1.5.0",
            "_model_name": "HBoxModel",
            "_view_count": null,
            "_view_module": "@jupyter-widgets/controls",
            "_view_module_version": "1.5.0",
            "_view_name": "HBoxView",
            "box_style": "",
            "children": [
              "IPY_MODEL_f70315826b2c49ffb6b5f5b9fcbbff92",
              "IPY_MODEL_8c0f69066f1441e6b097678e482326f6",
              "IPY_MODEL_37917439567f4466aed7f96287be179a"
            ],
            "layout": "IPY_MODEL_e2eaaf6dd4594a19bae4d709f89b5dd3"
          }
        },
        "f70315826b2c49ffb6b5f5b9fcbbff92": {
          "model_module": "@jupyter-widgets/controls",
          "model_name": "HTMLModel",
          "model_module_version": "1.5.0",
          "state": {
            "_dom_classes": [],
            "_model_module": "@jupyter-widgets/controls",
            "_model_module_version": "1.5.0",
            "_model_name": "HTMLModel",
            "_view_count": null,
            "_view_module": "@jupyter-widgets/controls",
            "_view_module_version": "1.5.0",
            "_view_name": "HTMLView",
            "description": "",
            "description_tooltip": null,
            "layout": "IPY_MODEL_3c970eec879a409e853b11817f1e51bc",
            "placeholder": "​",
            "style": "IPY_MODEL_4dede8ca562243d7be9b93ee8a14149c",
            "value": "tokenizer_config.json: 100%"
          }
        },
        "8c0f69066f1441e6b097678e482326f6": {
          "model_module": "@jupyter-widgets/controls",
          "model_name": "FloatProgressModel",
          "model_module_version": "1.5.0",
          "state": {
            "_dom_classes": [],
            "_model_module": "@jupyter-widgets/controls",
            "_model_module_version": "1.5.0",
            "_model_name": "FloatProgressModel",
            "_view_count": null,
            "_view_module": "@jupyter-widgets/controls",
            "_view_module_version": "1.5.0",
            "_view_name": "ProgressView",
            "bar_style": "success",
            "description": "",
            "description_tooltip": null,
            "layout": "IPY_MODEL_29b08fc1068547579489f04521084a76",
            "max": 48,
            "min": 0,
            "orientation": "horizontal",
            "style": "IPY_MODEL_9436799e1dbd463eb1ed9113c585363d",
            "value": 48
          }
        },
        "37917439567f4466aed7f96287be179a": {
          "model_module": "@jupyter-widgets/controls",
          "model_name": "HTMLModel",
          "model_module_version": "1.5.0",
          "state": {
            "_dom_classes": [],
            "_model_module": "@jupyter-widgets/controls",
            "_model_module_version": "1.5.0",
            "_model_name": "HTMLModel",
            "_view_count": null,
            "_view_module": "@jupyter-widgets/controls",
            "_view_module_version": "1.5.0",
            "_view_name": "HTMLView",
            "description": "",
            "description_tooltip": null,
            "layout": "IPY_MODEL_c4d06eab71df4733a03d3de54d44fea5",
            "placeholder": "​",
            "style": "IPY_MODEL_0f85e2383ffb47198b556a4574931a57",
            "value": " 48.0/48.0 [00:00&lt;00:00, 1.88kB/s]"
          }
        },
        "e2eaaf6dd4594a19bae4d709f89b5dd3": {
          "model_module": "@jupyter-widgets/base",
          "model_name": "LayoutModel",
          "model_module_version": "1.2.0",
          "state": {
            "_model_module": "@jupyter-widgets/base",
            "_model_module_version": "1.2.0",
            "_model_name": "LayoutModel",
            "_view_count": null,
            "_view_module": "@jupyter-widgets/base",
            "_view_module_version": "1.2.0",
            "_view_name": "LayoutView",
            "align_content": null,
            "align_items": null,
            "align_self": null,
            "border": null,
            "bottom": null,
            "display": null,
            "flex": null,
            "flex_flow": null,
            "grid_area": null,
            "grid_auto_columns": null,
            "grid_auto_flow": null,
            "grid_auto_rows": null,
            "grid_column": null,
            "grid_gap": null,
            "grid_row": null,
            "grid_template_areas": null,
            "grid_template_columns": null,
            "grid_template_rows": null,
            "height": null,
            "justify_content": null,
            "justify_items": null,
            "left": null,
            "margin": null,
            "max_height": null,
            "max_width": null,
            "min_height": null,
            "min_width": null,
            "object_fit": null,
            "object_position": null,
            "order": null,
            "overflow": null,
            "overflow_x": null,
            "overflow_y": null,
            "padding": null,
            "right": null,
            "top": null,
            "visibility": null,
            "width": null
          }
        },
        "3c970eec879a409e853b11817f1e51bc": {
          "model_module": "@jupyter-widgets/base",
          "model_name": "LayoutModel",
          "model_module_version": "1.2.0",
          "state": {
            "_model_module": "@jupyter-widgets/base",
            "_model_module_version": "1.2.0",
            "_model_name": "LayoutModel",
            "_view_count": null,
            "_view_module": "@jupyter-widgets/base",
            "_view_module_version": "1.2.0",
            "_view_name": "LayoutView",
            "align_content": null,
            "align_items": null,
            "align_self": null,
            "border": null,
            "bottom": null,
            "display": null,
            "flex": null,
            "flex_flow": null,
            "grid_area": null,
            "grid_auto_columns": null,
            "grid_auto_flow": null,
            "grid_auto_rows": null,
            "grid_column": null,
            "grid_gap": null,
            "grid_row": null,
            "grid_template_areas": null,
            "grid_template_columns": null,
            "grid_template_rows": null,
            "height": null,
            "justify_content": null,
            "justify_items": null,
            "left": null,
            "margin": null,
            "max_height": null,
            "max_width": null,
            "min_height": null,
            "min_width": null,
            "object_fit": null,
            "object_position": null,
            "order": null,
            "overflow": null,
            "overflow_x": null,
            "overflow_y": null,
            "padding": null,
            "right": null,
            "top": null,
            "visibility": null,
            "width": null
          }
        },
        "4dede8ca562243d7be9b93ee8a14149c": {
          "model_module": "@jupyter-widgets/controls",
          "model_name": "DescriptionStyleModel",
          "model_module_version": "1.5.0",
          "state": {
            "_model_module": "@jupyter-widgets/controls",
            "_model_module_version": "1.5.0",
            "_model_name": "DescriptionStyleModel",
            "_view_count": null,
            "_view_module": "@jupyter-widgets/base",
            "_view_module_version": "1.2.0",
            "_view_name": "StyleView",
            "description_width": ""
          }
        },
        "29b08fc1068547579489f04521084a76": {
          "model_module": "@jupyter-widgets/base",
          "model_name": "LayoutModel",
          "model_module_version": "1.2.0",
          "state": {
            "_model_module": "@jupyter-widgets/base",
            "_model_module_version": "1.2.0",
            "_model_name": "LayoutModel",
            "_view_count": null,
            "_view_module": "@jupyter-widgets/base",
            "_view_module_version": "1.2.0",
            "_view_name": "LayoutView",
            "align_content": null,
            "align_items": null,
            "align_self": null,
            "border": null,
            "bottom": null,
            "display": null,
            "flex": null,
            "flex_flow": null,
            "grid_area": null,
            "grid_auto_columns": null,
            "grid_auto_flow": null,
            "grid_auto_rows": null,
            "grid_column": null,
            "grid_gap": null,
            "grid_row": null,
            "grid_template_areas": null,
            "grid_template_columns": null,
            "grid_template_rows": null,
            "height": null,
            "justify_content": null,
            "justify_items": null,
            "left": null,
            "margin": null,
            "max_height": null,
            "max_width": null,
            "min_height": null,
            "min_width": null,
            "object_fit": null,
            "object_position": null,
            "order": null,
            "overflow": null,
            "overflow_x": null,
            "overflow_y": null,
            "padding": null,
            "right": null,
            "top": null,
            "visibility": null,
            "width": null
          }
        },
        "9436799e1dbd463eb1ed9113c585363d": {
          "model_module": "@jupyter-widgets/controls",
          "model_name": "ProgressStyleModel",
          "model_module_version": "1.5.0",
          "state": {
            "_model_module": "@jupyter-widgets/controls",
            "_model_module_version": "1.5.0",
            "_model_name": "ProgressStyleModel",
            "_view_count": null,
            "_view_module": "@jupyter-widgets/base",
            "_view_module_version": "1.2.0",
            "_view_name": "StyleView",
            "bar_color": null,
            "description_width": ""
          }
        },
        "c4d06eab71df4733a03d3de54d44fea5": {
          "model_module": "@jupyter-widgets/base",
          "model_name": "LayoutModel",
          "model_module_version": "1.2.0",
          "state": {
            "_model_module": "@jupyter-widgets/base",
            "_model_module_version": "1.2.0",
            "_model_name": "LayoutModel",
            "_view_count": null,
            "_view_module": "@jupyter-widgets/base",
            "_view_module_version": "1.2.0",
            "_view_name": "LayoutView",
            "align_content": null,
            "align_items": null,
            "align_self": null,
            "border": null,
            "bottom": null,
            "display": null,
            "flex": null,
            "flex_flow": null,
            "grid_area": null,
            "grid_auto_columns": null,
            "grid_auto_flow": null,
            "grid_auto_rows": null,
            "grid_column": null,
            "grid_gap": null,
            "grid_row": null,
            "grid_template_areas": null,
            "grid_template_columns": null,
            "grid_template_rows": null,
            "height": null,
            "justify_content": null,
            "justify_items": null,
            "left": null,
            "margin": null,
            "max_height": null,
            "max_width": null,
            "min_height": null,
            "min_width": null,
            "object_fit": null,
            "object_position": null,
            "order": null,
            "overflow": null,
            "overflow_x": null,
            "overflow_y": null,
            "padding": null,
            "right": null,
            "top": null,
            "visibility": null,
            "width": null
          }
        },
        "0f85e2383ffb47198b556a4574931a57": {
          "model_module": "@jupyter-widgets/controls",
          "model_name": "DescriptionStyleModel",
          "model_module_version": "1.5.0",
          "state": {
            "_model_module": "@jupyter-widgets/controls",
            "_model_module_version": "1.5.0",
            "_model_name": "DescriptionStyleModel",
            "_view_count": null,
            "_view_module": "@jupyter-widgets/base",
            "_view_module_version": "1.2.0",
            "_view_name": "StyleView",
            "description_width": ""
          }
        },
        "34ee8d6e79504528b7c572ef461d9e35": {
          "model_module": "@jupyter-widgets/controls",
          "model_name": "HBoxModel",
          "model_module_version": "1.5.0",
          "state": {
            "_dom_classes": [],
            "_model_module": "@jupyter-widgets/controls",
            "_model_module_version": "1.5.0",
            "_model_name": "HBoxModel",
            "_view_count": null,
            "_view_module": "@jupyter-widgets/controls",
            "_view_module_version": "1.5.0",
            "_view_name": "HBoxView",
            "box_style": "",
            "children": [
              "IPY_MODEL_0f194e1397f1408595332250bae38f1a",
              "IPY_MODEL_8810d9c34be24a6bb8b81c4b12a00ab3",
              "IPY_MODEL_5200901794f64e32a652f371926b581e"
            ],
            "layout": "IPY_MODEL_cff1aae8081d4faea7fc7bedb79cb3a9"
          }
        },
        "0f194e1397f1408595332250bae38f1a": {
          "model_module": "@jupyter-widgets/controls",
          "model_name": "HTMLModel",
          "model_module_version": "1.5.0",
          "state": {
            "_dom_classes": [],
            "_model_module": "@jupyter-widgets/controls",
            "_model_module_version": "1.5.0",
            "_model_name": "HTMLModel",
            "_view_count": null,
            "_view_module": "@jupyter-widgets/controls",
            "_view_module_version": "1.5.0",
            "_view_name": "HTMLView",
            "description": "",
            "description_tooltip": null,
            "layout": "IPY_MODEL_3e71cb0265eb49b98edbeae39ed3fa79",
            "placeholder": "​",
            "style": "IPY_MODEL_8789c6eccd4e4445b7cfe9ed05833963",
            "value": "vocab.txt: 100%"
          }
        },
        "8810d9c34be24a6bb8b81c4b12a00ab3": {
          "model_module": "@jupyter-widgets/controls",
          "model_name": "FloatProgressModel",
          "model_module_version": "1.5.0",
          "state": {
            "_dom_classes": [],
            "_model_module": "@jupyter-widgets/controls",
            "_model_module_version": "1.5.0",
            "_model_name": "FloatProgressModel",
            "_view_count": null,
            "_view_module": "@jupyter-widgets/controls",
            "_view_module_version": "1.5.0",
            "_view_name": "ProgressView",
            "bar_style": "success",
            "description": "",
            "description_tooltip": null,
            "layout": "IPY_MODEL_0af74a1cbf1341b4b10884d01576f4fb",
            "max": 231508,
            "min": 0,
            "orientation": "horizontal",
            "style": "IPY_MODEL_e4914fd8ae1146afb696457ce74aafd7",
            "value": 231508
          }
        },
        "5200901794f64e32a652f371926b581e": {
          "model_module": "@jupyter-widgets/controls",
          "model_name": "HTMLModel",
          "model_module_version": "1.5.0",
          "state": {
            "_dom_classes": [],
            "_model_module": "@jupyter-widgets/controls",
            "_model_module_version": "1.5.0",
            "_model_name": "HTMLModel",
            "_view_count": null,
            "_view_module": "@jupyter-widgets/controls",
            "_view_module_version": "1.5.0",
            "_view_name": "HTMLView",
            "description": "",
            "description_tooltip": null,
            "layout": "IPY_MODEL_899a13e401414b58afd4c5230de19dc2",
            "placeholder": "​",
            "style": "IPY_MODEL_76eaf6e107194adfb5873e7dc8e79645",
            "value": " 232k/232k [00:00&lt;00:00, 2.89MB/s]"
          }
        },
        "cff1aae8081d4faea7fc7bedb79cb3a9": {
          "model_module": "@jupyter-widgets/base",
          "model_name": "LayoutModel",
          "model_module_version": "1.2.0",
          "state": {
            "_model_module": "@jupyter-widgets/base",
            "_model_module_version": "1.2.0",
            "_model_name": "LayoutModel",
            "_view_count": null,
            "_view_module": "@jupyter-widgets/base",
            "_view_module_version": "1.2.0",
            "_view_name": "LayoutView",
            "align_content": null,
            "align_items": null,
            "align_self": null,
            "border": null,
            "bottom": null,
            "display": null,
            "flex": null,
            "flex_flow": null,
            "grid_area": null,
            "grid_auto_columns": null,
            "grid_auto_flow": null,
            "grid_auto_rows": null,
            "grid_column": null,
            "grid_gap": null,
            "grid_row": null,
            "grid_template_areas": null,
            "grid_template_columns": null,
            "grid_template_rows": null,
            "height": null,
            "justify_content": null,
            "justify_items": null,
            "left": null,
            "margin": null,
            "max_height": null,
            "max_width": null,
            "min_height": null,
            "min_width": null,
            "object_fit": null,
            "object_position": null,
            "order": null,
            "overflow": null,
            "overflow_x": null,
            "overflow_y": null,
            "padding": null,
            "right": null,
            "top": null,
            "visibility": null,
            "width": null
          }
        },
        "3e71cb0265eb49b98edbeae39ed3fa79": {
          "model_module": "@jupyter-widgets/base",
          "model_name": "LayoutModel",
          "model_module_version": "1.2.0",
          "state": {
            "_model_module": "@jupyter-widgets/base",
            "_model_module_version": "1.2.0",
            "_model_name": "LayoutModel",
            "_view_count": null,
            "_view_module": "@jupyter-widgets/base",
            "_view_module_version": "1.2.0",
            "_view_name": "LayoutView",
            "align_content": null,
            "align_items": null,
            "align_self": null,
            "border": null,
            "bottom": null,
            "display": null,
            "flex": null,
            "flex_flow": null,
            "grid_area": null,
            "grid_auto_columns": null,
            "grid_auto_flow": null,
            "grid_auto_rows": null,
            "grid_column": null,
            "grid_gap": null,
            "grid_row": null,
            "grid_template_areas": null,
            "grid_template_columns": null,
            "grid_template_rows": null,
            "height": null,
            "justify_content": null,
            "justify_items": null,
            "left": null,
            "margin": null,
            "max_height": null,
            "max_width": null,
            "min_height": null,
            "min_width": null,
            "object_fit": null,
            "object_position": null,
            "order": null,
            "overflow": null,
            "overflow_x": null,
            "overflow_y": null,
            "padding": null,
            "right": null,
            "top": null,
            "visibility": null,
            "width": null
          }
        },
        "8789c6eccd4e4445b7cfe9ed05833963": {
          "model_module": "@jupyter-widgets/controls",
          "model_name": "DescriptionStyleModel",
          "model_module_version": "1.5.0",
          "state": {
            "_model_module": "@jupyter-widgets/controls",
            "_model_module_version": "1.5.0",
            "_model_name": "DescriptionStyleModel",
            "_view_count": null,
            "_view_module": "@jupyter-widgets/base",
            "_view_module_version": "1.2.0",
            "_view_name": "StyleView",
            "description_width": ""
          }
        },
        "0af74a1cbf1341b4b10884d01576f4fb": {
          "model_module": "@jupyter-widgets/base",
          "model_name": "LayoutModel",
          "model_module_version": "1.2.0",
          "state": {
            "_model_module": "@jupyter-widgets/base",
            "_model_module_version": "1.2.0",
            "_model_name": "LayoutModel",
            "_view_count": null,
            "_view_module": "@jupyter-widgets/base",
            "_view_module_version": "1.2.0",
            "_view_name": "LayoutView",
            "align_content": null,
            "align_items": null,
            "align_self": null,
            "border": null,
            "bottom": null,
            "display": null,
            "flex": null,
            "flex_flow": null,
            "grid_area": null,
            "grid_auto_columns": null,
            "grid_auto_flow": null,
            "grid_auto_rows": null,
            "grid_column": null,
            "grid_gap": null,
            "grid_row": null,
            "grid_template_areas": null,
            "grid_template_columns": null,
            "grid_template_rows": null,
            "height": null,
            "justify_content": null,
            "justify_items": null,
            "left": null,
            "margin": null,
            "max_height": null,
            "max_width": null,
            "min_height": null,
            "min_width": null,
            "object_fit": null,
            "object_position": null,
            "order": null,
            "overflow": null,
            "overflow_x": null,
            "overflow_y": null,
            "padding": null,
            "right": null,
            "top": null,
            "visibility": null,
            "width": null
          }
        },
        "e4914fd8ae1146afb696457ce74aafd7": {
          "model_module": "@jupyter-widgets/controls",
          "model_name": "ProgressStyleModel",
          "model_module_version": "1.5.0",
          "state": {
            "_model_module": "@jupyter-widgets/controls",
            "_model_module_version": "1.5.0",
            "_model_name": "ProgressStyleModel",
            "_view_count": null,
            "_view_module": "@jupyter-widgets/base",
            "_view_module_version": "1.2.0",
            "_view_name": "StyleView",
            "bar_color": null,
            "description_width": ""
          }
        },
        "899a13e401414b58afd4c5230de19dc2": {
          "model_module": "@jupyter-widgets/base",
          "model_name": "LayoutModel",
          "model_module_version": "1.2.0",
          "state": {
            "_model_module": "@jupyter-widgets/base",
            "_model_module_version": "1.2.0",
            "_model_name": "LayoutModel",
            "_view_count": null,
            "_view_module": "@jupyter-widgets/base",
            "_view_module_version": "1.2.0",
            "_view_name": "LayoutView",
            "align_content": null,
            "align_items": null,
            "align_self": null,
            "border": null,
            "bottom": null,
            "display": null,
            "flex": null,
            "flex_flow": null,
            "grid_area": null,
            "grid_auto_columns": null,
            "grid_auto_flow": null,
            "grid_auto_rows": null,
            "grid_column": null,
            "grid_gap": null,
            "grid_row": null,
            "grid_template_areas": null,
            "grid_template_columns": null,
            "grid_template_rows": null,
            "height": null,
            "justify_content": null,
            "justify_items": null,
            "left": null,
            "margin": null,
            "max_height": null,
            "max_width": null,
            "min_height": null,
            "min_width": null,
            "object_fit": null,
            "object_position": null,
            "order": null,
            "overflow": null,
            "overflow_x": null,
            "overflow_y": null,
            "padding": null,
            "right": null,
            "top": null,
            "visibility": null,
            "width": null
          }
        },
        "76eaf6e107194adfb5873e7dc8e79645": {
          "model_module": "@jupyter-widgets/controls",
          "model_name": "DescriptionStyleModel",
          "model_module_version": "1.5.0",
          "state": {
            "_model_module": "@jupyter-widgets/controls",
            "_model_module_version": "1.5.0",
            "_model_name": "DescriptionStyleModel",
            "_view_count": null,
            "_view_module": "@jupyter-widgets/base",
            "_view_module_version": "1.2.0",
            "_view_name": "StyleView",
            "description_width": ""
          }
        },
        "980ab6d8f2d4479eadb6b091e55b6e9f": {
          "model_module": "@jupyter-widgets/controls",
          "model_name": "HBoxModel",
          "model_module_version": "1.5.0",
          "state": {
            "_dom_classes": [],
            "_model_module": "@jupyter-widgets/controls",
            "_model_module_version": "1.5.0",
            "_model_name": "HBoxModel",
            "_view_count": null,
            "_view_module": "@jupyter-widgets/controls",
            "_view_module_version": "1.5.0",
            "_view_name": "HBoxView",
            "box_style": "",
            "children": [
              "IPY_MODEL_3d9555f543174fd3baa0336f2b2388bb",
              "IPY_MODEL_99d17f78378c40fcb2cb4990b7b3e450",
              "IPY_MODEL_9e97ca85246a47d4a6e28653c154ea74"
            ],
            "layout": "IPY_MODEL_4e2fc2c145eb46238baff727bbdba610"
          }
        },
        "3d9555f543174fd3baa0336f2b2388bb": {
          "model_module": "@jupyter-widgets/controls",
          "model_name": "HTMLModel",
          "model_module_version": "1.5.0",
          "state": {
            "_dom_classes": [],
            "_model_module": "@jupyter-widgets/controls",
            "_model_module_version": "1.5.0",
            "_model_name": "HTMLModel",
            "_view_count": null,
            "_view_module": "@jupyter-widgets/controls",
            "_view_module_version": "1.5.0",
            "_view_name": "HTMLView",
            "description": "",
            "description_tooltip": null,
            "layout": "IPY_MODEL_72aced9e58104fd98ae0edb0a3cec402",
            "placeholder": "​",
            "style": "IPY_MODEL_24b55e56f66c4c08a1401c85454e15ba",
            "value": "tokenizer.json: 100%"
          }
        },
        "99d17f78378c40fcb2cb4990b7b3e450": {
          "model_module": "@jupyter-widgets/controls",
          "model_name": "FloatProgressModel",
          "model_module_version": "1.5.0",
          "state": {
            "_dom_classes": [],
            "_model_module": "@jupyter-widgets/controls",
            "_model_module_version": "1.5.0",
            "_model_name": "FloatProgressModel",
            "_view_count": null,
            "_view_module": "@jupyter-widgets/controls",
            "_view_module_version": "1.5.0",
            "_view_name": "ProgressView",
            "bar_style": "success",
            "description": "",
            "description_tooltip": null,
            "layout": "IPY_MODEL_7fbc4706b28a45b39de0357e7f7aadb0",
            "max": 466062,
            "min": 0,
            "orientation": "horizontal",
            "style": "IPY_MODEL_3dbbbc689b634968b1ef34f4c9bfad2e",
            "value": 466062
          }
        },
        "9e97ca85246a47d4a6e28653c154ea74": {
          "model_module": "@jupyter-widgets/controls",
          "model_name": "HTMLModel",
          "model_module_version": "1.5.0",
          "state": {
            "_dom_classes": [],
            "_model_module": "@jupyter-widgets/controls",
            "_model_module_version": "1.5.0",
            "_model_name": "HTMLModel",
            "_view_count": null,
            "_view_module": "@jupyter-widgets/controls",
            "_view_module_version": "1.5.0",
            "_view_name": "HTMLView",
            "description": "",
            "description_tooltip": null,
            "layout": "IPY_MODEL_1f4d958407f44f44aa2b6afc1806e153",
            "placeholder": "​",
            "style": "IPY_MODEL_a377f8fe0b004017b4ddb56e56d7afcf",
            "value": " 466k/466k [00:00&lt;00:00, 21.3MB/s]"
          }
        },
        "4e2fc2c145eb46238baff727bbdba610": {
          "model_module": "@jupyter-widgets/base",
          "model_name": "LayoutModel",
          "model_module_version": "1.2.0",
          "state": {
            "_model_module": "@jupyter-widgets/base",
            "_model_module_version": "1.2.0",
            "_model_name": "LayoutModel",
            "_view_count": null,
            "_view_module": "@jupyter-widgets/base",
            "_view_module_version": "1.2.0",
            "_view_name": "LayoutView",
            "align_content": null,
            "align_items": null,
            "align_self": null,
            "border": null,
            "bottom": null,
            "display": null,
            "flex": null,
            "flex_flow": null,
            "grid_area": null,
            "grid_auto_columns": null,
            "grid_auto_flow": null,
            "grid_auto_rows": null,
            "grid_column": null,
            "grid_gap": null,
            "grid_row": null,
            "grid_template_areas": null,
            "grid_template_columns": null,
            "grid_template_rows": null,
            "height": null,
            "justify_content": null,
            "justify_items": null,
            "left": null,
            "margin": null,
            "max_height": null,
            "max_width": null,
            "min_height": null,
            "min_width": null,
            "object_fit": null,
            "object_position": null,
            "order": null,
            "overflow": null,
            "overflow_x": null,
            "overflow_y": null,
            "padding": null,
            "right": null,
            "top": null,
            "visibility": null,
            "width": null
          }
        },
        "72aced9e58104fd98ae0edb0a3cec402": {
          "model_module": "@jupyter-widgets/base",
          "model_name": "LayoutModel",
          "model_module_version": "1.2.0",
          "state": {
            "_model_module": "@jupyter-widgets/base",
            "_model_module_version": "1.2.0",
            "_model_name": "LayoutModel",
            "_view_count": null,
            "_view_module": "@jupyter-widgets/base",
            "_view_module_version": "1.2.0",
            "_view_name": "LayoutView",
            "align_content": null,
            "align_items": null,
            "align_self": null,
            "border": null,
            "bottom": null,
            "display": null,
            "flex": null,
            "flex_flow": null,
            "grid_area": null,
            "grid_auto_columns": null,
            "grid_auto_flow": null,
            "grid_auto_rows": null,
            "grid_column": null,
            "grid_gap": null,
            "grid_row": null,
            "grid_template_areas": null,
            "grid_template_columns": null,
            "grid_template_rows": null,
            "height": null,
            "justify_content": null,
            "justify_items": null,
            "left": null,
            "margin": null,
            "max_height": null,
            "max_width": null,
            "min_height": null,
            "min_width": null,
            "object_fit": null,
            "object_position": null,
            "order": null,
            "overflow": null,
            "overflow_x": null,
            "overflow_y": null,
            "padding": null,
            "right": null,
            "top": null,
            "visibility": null,
            "width": null
          }
        },
        "24b55e56f66c4c08a1401c85454e15ba": {
          "model_module": "@jupyter-widgets/controls",
          "model_name": "DescriptionStyleModel",
          "model_module_version": "1.5.0",
          "state": {
            "_model_module": "@jupyter-widgets/controls",
            "_model_module_version": "1.5.0",
            "_model_name": "DescriptionStyleModel",
            "_view_count": null,
            "_view_module": "@jupyter-widgets/base",
            "_view_module_version": "1.2.0",
            "_view_name": "StyleView",
            "description_width": ""
          }
        },
        "7fbc4706b28a45b39de0357e7f7aadb0": {
          "model_module": "@jupyter-widgets/base",
          "model_name": "LayoutModel",
          "model_module_version": "1.2.0",
          "state": {
            "_model_module": "@jupyter-widgets/base",
            "_model_module_version": "1.2.0",
            "_model_name": "LayoutModel",
            "_view_count": null,
            "_view_module": "@jupyter-widgets/base",
            "_view_module_version": "1.2.0",
            "_view_name": "LayoutView",
            "align_content": null,
            "align_items": null,
            "align_self": null,
            "border": null,
            "bottom": null,
            "display": null,
            "flex": null,
            "flex_flow": null,
            "grid_area": null,
            "grid_auto_columns": null,
            "grid_auto_flow": null,
            "grid_auto_rows": null,
            "grid_column": null,
            "grid_gap": null,
            "grid_row": null,
            "grid_template_areas": null,
            "grid_template_columns": null,
            "grid_template_rows": null,
            "height": null,
            "justify_content": null,
            "justify_items": null,
            "left": null,
            "margin": null,
            "max_height": null,
            "max_width": null,
            "min_height": null,
            "min_width": null,
            "object_fit": null,
            "object_position": null,
            "order": null,
            "overflow": null,
            "overflow_x": null,
            "overflow_y": null,
            "padding": null,
            "right": null,
            "top": null,
            "visibility": null,
            "width": null
          }
        },
        "3dbbbc689b634968b1ef34f4c9bfad2e": {
          "model_module": "@jupyter-widgets/controls",
          "model_name": "ProgressStyleModel",
          "model_module_version": "1.5.0",
          "state": {
            "_model_module": "@jupyter-widgets/controls",
            "_model_module_version": "1.5.0",
            "_model_name": "ProgressStyleModel",
            "_view_count": null,
            "_view_module": "@jupyter-widgets/base",
            "_view_module_version": "1.2.0",
            "_view_name": "StyleView",
            "bar_color": null,
            "description_width": ""
          }
        },
        "1f4d958407f44f44aa2b6afc1806e153": {
          "model_module": "@jupyter-widgets/base",
          "model_name": "LayoutModel",
          "model_module_version": "1.2.0",
          "state": {
            "_model_module": "@jupyter-widgets/base",
            "_model_module_version": "1.2.0",
            "_model_name": "LayoutModel",
            "_view_count": null,
            "_view_module": "@jupyter-widgets/base",
            "_view_module_version": "1.2.0",
            "_view_name": "LayoutView",
            "align_content": null,
            "align_items": null,
            "align_self": null,
            "border": null,
            "bottom": null,
            "display": null,
            "flex": null,
            "flex_flow": null,
            "grid_area": null,
            "grid_auto_columns": null,
            "grid_auto_flow": null,
            "grid_auto_rows": null,
            "grid_column": null,
            "grid_gap": null,
            "grid_row": null,
            "grid_template_areas": null,
            "grid_template_columns": null,
            "grid_template_rows": null,
            "height": null,
            "justify_content": null,
            "justify_items": null,
            "left": null,
            "margin": null,
            "max_height": null,
            "max_width": null,
            "min_height": null,
            "min_width": null,
            "object_fit": null,
            "object_position": null,
            "order": null,
            "overflow": null,
            "overflow_x": null,
            "overflow_y": null,
            "padding": null,
            "right": null,
            "top": null,
            "visibility": null,
            "width": null
          }
        },
        "a377f8fe0b004017b4ddb56e56d7afcf": {
          "model_module": "@jupyter-widgets/controls",
          "model_name": "DescriptionStyleModel",
          "model_module_version": "1.5.0",
          "state": {
            "_model_module": "@jupyter-widgets/controls",
            "_model_module_version": "1.5.0",
            "_model_name": "DescriptionStyleModel",
            "_view_count": null,
            "_view_module": "@jupyter-widgets/base",
            "_view_module_version": "1.2.0",
            "_view_name": "StyleView",
            "description_width": ""
          }
        },
        "5d2f7af23f5542a0960ea091708aadd4": {
          "model_module": "@jupyter-widgets/controls",
          "model_name": "HBoxModel",
          "model_module_version": "1.5.0",
          "state": {
            "_dom_classes": [],
            "_model_module": "@jupyter-widgets/controls",
            "_model_module_version": "1.5.0",
            "_model_name": "HBoxModel",
            "_view_count": null,
            "_view_module": "@jupyter-widgets/controls",
            "_view_module_version": "1.5.0",
            "_view_name": "HBoxView",
            "box_style": "",
            "children": [
              "IPY_MODEL_a175b66116944135b5ae5f37ce7f2bc9",
              "IPY_MODEL_0827eb85855c483ba75dbdfbc2816aa3",
              "IPY_MODEL_a8e37ef56b2f4c00b60ae6bc4030f79b"
            ],
            "layout": "IPY_MODEL_1b0663a56e654533acc380bcf1bfe993"
          }
        },
        "a175b66116944135b5ae5f37ce7f2bc9": {
          "model_module": "@jupyter-widgets/controls",
          "model_name": "HTMLModel",
          "model_module_version": "1.5.0",
          "state": {
            "_dom_classes": [],
            "_model_module": "@jupyter-widgets/controls",
            "_model_module_version": "1.5.0",
            "_model_name": "HTMLModel",
            "_view_count": null,
            "_view_module": "@jupyter-widgets/controls",
            "_view_module_version": "1.5.0",
            "_view_name": "HTMLView",
            "description": "",
            "description_tooltip": null,
            "layout": "IPY_MODEL_52140603943744db88552a9f7171fafb",
            "placeholder": "​",
            "style": "IPY_MODEL_08eb4332f9074cffaeef06e91d48366b",
            "value": "config.json: 100%"
          }
        },
        "0827eb85855c483ba75dbdfbc2816aa3": {
          "model_module": "@jupyter-widgets/controls",
          "model_name": "FloatProgressModel",
          "model_module_version": "1.5.0",
          "state": {
            "_dom_classes": [],
            "_model_module": "@jupyter-widgets/controls",
            "_model_module_version": "1.5.0",
            "_model_name": "FloatProgressModel",
            "_view_count": null,
            "_view_module": "@jupyter-widgets/controls",
            "_view_module_version": "1.5.0",
            "_view_name": "ProgressView",
            "bar_style": "success",
            "description": "",
            "description_tooltip": null,
            "layout": "IPY_MODEL_512ba9bb54df438a9cbd04cfe5cba5a4",
            "max": 483,
            "min": 0,
            "orientation": "horizontal",
            "style": "IPY_MODEL_4e34ac63451f403b90f9be48f3056bbc",
            "value": 483
          }
        },
        "a8e37ef56b2f4c00b60ae6bc4030f79b": {
          "model_module": "@jupyter-widgets/controls",
          "model_name": "HTMLModel",
          "model_module_version": "1.5.0",
          "state": {
            "_dom_classes": [],
            "_model_module": "@jupyter-widgets/controls",
            "_model_module_version": "1.5.0",
            "_model_name": "HTMLModel",
            "_view_count": null,
            "_view_module": "@jupyter-widgets/controls",
            "_view_module_version": "1.5.0",
            "_view_name": "HTMLView",
            "description": "",
            "description_tooltip": null,
            "layout": "IPY_MODEL_f87bdae7b42943e4a5e50f047cb335eb",
            "placeholder": "​",
            "style": "IPY_MODEL_7f3f296d09494443b735ddc456b3851d",
            "value": " 483/483 [00:00&lt;00:00, 9.92kB/s]"
          }
        },
        "1b0663a56e654533acc380bcf1bfe993": {
          "model_module": "@jupyter-widgets/base",
          "model_name": "LayoutModel",
          "model_module_version": "1.2.0",
          "state": {
            "_model_module": "@jupyter-widgets/base",
            "_model_module_version": "1.2.0",
            "_model_name": "LayoutModel",
            "_view_count": null,
            "_view_module": "@jupyter-widgets/base",
            "_view_module_version": "1.2.0",
            "_view_name": "LayoutView",
            "align_content": null,
            "align_items": null,
            "align_self": null,
            "border": null,
            "bottom": null,
            "display": null,
            "flex": null,
            "flex_flow": null,
            "grid_area": null,
            "grid_auto_columns": null,
            "grid_auto_flow": null,
            "grid_auto_rows": null,
            "grid_column": null,
            "grid_gap": null,
            "grid_row": null,
            "grid_template_areas": null,
            "grid_template_columns": null,
            "grid_template_rows": null,
            "height": null,
            "justify_content": null,
            "justify_items": null,
            "left": null,
            "margin": null,
            "max_height": null,
            "max_width": null,
            "min_height": null,
            "min_width": null,
            "object_fit": null,
            "object_position": null,
            "order": null,
            "overflow": null,
            "overflow_x": null,
            "overflow_y": null,
            "padding": null,
            "right": null,
            "top": null,
            "visibility": null,
            "width": null
          }
        },
        "52140603943744db88552a9f7171fafb": {
          "model_module": "@jupyter-widgets/base",
          "model_name": "LayoutModel",
          "model_module_version": "1.2.0",
          "state": {
            "_model_module": "@jupyter-widgets/base",
            "_model_module_version": "1.2.0",
            "_model_name": "LayoutModel",
            "_view_count": null,
            "_view_module": "@jupyter-widgets/base",
            "_view_module_version": "1.2.0",
            "_view_name": "LayoutView",
            "align_content": null,
            "align_items": null,
            "align_self": null,
            "border": null,
            "bottom": null,
            "display": null,
            "flex": null,
            "flex_flow": null,
            "grid_area": null,
            "grid_auto_columns": null,
            "grid_auto_flow": null,
            "grid_auto_rows": null,
            "grid_column": null,
            "grid_gap": null,
            "grid_row": null,
            "grid_template_areas": null,
            "grid_template_columns": null,
            "grid_template_rows": null,
            "height": null,
            "justify_content": null,
            "justify_items": null,
            "left": null,
            "margin": null,
            "max_height": null,
            "max_width": null,
            "min_height": null,
            "min_width": null,
            "object_fit": null,
            "object_position": null,
            "order": null,
            "overflow": null,
            "overflow_x": null,
            "overflow_y": null,
            "padding": null,
            "right": null,
            "top": null,
            "visibility": null,
            "width": null
          }
        },
        "08eb4332f9074cffaeef06e91d48366b": {
          "model_module": "@jupyter-widgets/controls",
          "model_name": "DescriptionStyleModel",
          "model_module_version": "1.5.0",
          "state": {
            "_model_module": "@jupyter-widgets/controls",
            "_model_module_version": "1.5.0",
            "_model_name": "DescriptionStyleModel",
            "_view_count": null,
            "_view_module": "@jupyter-widgets/base",
            "_view_module_version": "1.2.0",
            "_view_name": "StyleView",
            "description_width": ""
          }
        },
        "512ba9bb54df438a9cbd04cfe5cba5a4": {
          "model_module": "@jupyter-widgets/base",
          "model_name": "LayoutModel",
          "model_module_version": "1.2.0",
          "state": {
            "_model_module": "@jupyter-widgets/base",
            "_model_module_version": "1.2.0",
            "_model_name": "LayoutModel",
            "_view_count": null,
            "_view_module": "@jupyter-widgets/base",
            "_view_module_version": "1.2.0",
            "_view_name": "LayoutView",
            "align_content": null,
            "align_items": null,
            "align_self": null,
            "border": null,
            "bottom": null,
            "display": null,
            "flex": null,
            "flex_flow": null,
            "grid_area": null,
            "grid_auto_columns": null,
            "grid_auto_flow": null,
            "grid_auto_rows": null,
            "grid_column": null,
            "grid_gap": null,
            "grid_row": null,
            "grid_template_areas": null,
            "grid_template_columns": null,
            "grid_template_rows": null,
            "height": null,
            "justify_content": null,
            "justify_items": null,
            "left": null,
            "margin": null,
            "max_height": null,
            "max_width": null,
            "min_height": null,
            "min_width": null,
            "object_fit": null,
            "object_position": null,
            "order": null,
            "overflow": null,
            "overflow_x": null,
            "overflow_y": null,
            "padding": null,
            "right": null,
            "top": null,
            "visibility": null,
            "width": null
          }
        },
        "4e34ac63451f403b90f9be48f3056bbc": {
          "model_module": "@jupyter-widgets/controls",
          "model_name": "ProgressStyleModel",
          "model_module_version": "1.5.0",
          "state": {
            "_model_module": "@jupyter-widgets/controls",
            "_model_module_version": "1.5.0",
            "_model_name": "ProgressStyleModel",
            "_view_count": null,
            "_view_module": "@jupyter-widgets/base",
            "_view_module_version": "1.2.0",
            "_view_name": "StyleView",
            "bar_color": null,
            "description_width": ""
          }
        },
        "f87bdae7b42943e4a5e50f047cb335eb": {
          "model_module": "@jupyter-widgets/base",
          "model_name": "LayoutModel",
          "model_module_version": "1.2.0",
          "state": {
            "_model_module": "@jupyter-widgets/base",
            "_model_module_version": "1.2.0",
            "_model_name": "LayoutModel",
            "_view_count": null,
            "_view_module": "@jupyter-widgets/base",
            "_view_module_version": "1.2.0",
            "_view_name": "LayoutView",
            "align_content": null,
            "align_items": null,
            "align_self": null,
            "border": null,
            "bottom": null,
            "display": null,
            "flex": null,
            "flex_flow": null,
            "grid_area": null,
            "grid_auto_columns": null,
            "grid_auto_flow": null,
            "grid_auto_rows": null,
            "grid_column": null,
            "grid_gap": null,
            "grid_row": null,
            "grid_template_areas": null,
            "grid_template_columns": null,
            "grid_template_rows": null,
            "height": null,
            "justify_content": null,
            "justify_items": null,
            "left": null,
            "margin": null,
            "max_height": null,
            "max_width": null,
            "min_height": null,
            "min_width": null,
            "object_fit": null,
            "object_position": null,
            "order": null,
            "overflow": null,
            "overflow_x": null,
            "overflow_y": null,
            "padding": null,
            "right": null,
            "top": null,
            "visibility": null,
            "width": null
          }
        },
        "7f3f296d09494443b735ddc456b3851d": {
          "model_module": "@jupyter-widgets/controls",
          "model_name": "DescriptionStyleModel",
          "model_module_version": "1.5.0",
          "state": {
            "_model_module": "@jupyter-widgets/controls",
            "_model_module_version": "1.5.0",
            "_model_name": "DescriptionStyleModel",
            "_view_count": null,
            "_view_module": "@jupyter-widgets/base",
            "_view_module_version": "1.2.0",
            "_view_name": "StyleView",
            "description_width": ""
          }
        },
        "ffdd48366eea4847a465b627208db70d": {
          "model_module": "@jupyter-widgets/controls",
          "model_name": "HBoxModel",
          "model_module_version": "1.5.0",
          "state": {
            "_dom_classes": [],
            "_model_module": "@jupyter-widgets/controls",
            "_model_module_version": "1.5.0",
            "_model_name": "HBoxModel",
            "_view_count": null,
            "_view_module": "@jupyter-widgets/controls",
            "_view_module_version": "1.5.0",
            "_view_name": "HBoxView",
            "box_style": "",
            "children": [
              "IPY_MODEL_d523fac37d44426db30945ea0112eb8b",
              "IPY_MODEL_fb779963d4ae44c6af0135541b850f06",
              "IPY_MODEL_b107f05c8fd44dd29760dae4631b7f38"
            ],
            "layout": "IPY_MODEL_2f9d2f1058374826a4320aad25121063"
          }
        },
        "d523fac37d44426db30945ea0112eb8b": {
          "model_module": "@jupyter-widgets/controls",
          "model_name": "HTMLModel",
          "model_module_version": "1.5.0",
          "state": {
            "_dom_classes": [],
            "_model_module": "@jupyter-widgets/controls",
            "_model_module_version": "1.5.0",
            "_model_name": "HTMLModel",
            "_view_count": null,
            "_view_module": "@jupyter-widgets/controls",
            "_view_module_version": "1.5.0",
            "_view_name": "HTMLView",
            "description": "",
            "description_tooltip": null,
            "layout": "IPY_MODEL_b7ce3674d3414689b1a5d0fb4da97d3b",
            "placeholder": "​",
            "style": "IPY_MODEL_658fda1efcbf4c9b972c776a0f5730e6",
            "value": "model.safetensors: 100%"
          }
        },
        "fb779963d4ae44c6af0135541b850f06": {
          "model_module": "@jupyter-widgets/controls",
          "model_name": "FloatProgressModel",
          "model_module_version": "1.5.0",
          "state": {
            "_dom_classes": [],
            "_model_module": "@jupyter-widgets/controls",
            "_model_module_version": "1.5.0",
            "_model_name": "FloatProgressModel",
            "_view_count": null,
            "_view_module": "@jupyter-widgets/controls",
            "_view_module_version": "1.5.0",
            "_view_name": "ProgressView",
            "bar_style": "success",
            "description": "",
            "description_tooltip": null,
            "layout": "IPY_MODEL_9625cd6e90bf458eaf6305acd634aaa0",
            "max": 267954768,
            "min": 0,
            "orientation": "horizontal",
            "style": "IPY_MODEL_e726b4785028442c8a3bd58eb04c0f0b",
            "value": 267954768
          }
        },
        "b107f05c8fd44dd29760dae4631b7f38": {
          "model_module": "@jupyter-widgets/controls",
          "model_name": "HTMLModel",
          "model_module_version": "1.5.0",
          "state": {
            "_dom_classes": [],
            "_model_module": "@jupyter-widgets/controls",
            "_model_module_version": "1.5.0",
            "_model_name": "HTMLModel",
            "_view_count": null,
            "_view_module": "@jupyter-widgets/controls",
            "_view_module_version": "1.5.0",
            "_view_name": "HTMLView",
            "description": "",
            "description_tooltip": null,
            "layout": "IPY_MODEL_a82ce382050b441ea23caa0bc861f30f",
            "placeholder": "​",
            "style": "IPY_MODEL_ac9da389cc544b4883f592b373498e88",
            "value": " 268M/268M [00:00&lt;00:00, 305MB/s]"
          }
        },
        "2f9d2f1058374826a4320aad25121063": {
          "model_module": "@jupyter-widgets/base",
          "model_name": "LayoutModel",
          "model_module_version": "1.2.0",
          "state": {
            "_model_module": "@jupyter-widgets/base",
            "_model_module_version": "1.2.0",
            "_model_name": "LayoutModel",
            "_view_count": null,
            "_view_module": "@jupyter-widgets/base",
            "_view_module_version": "1.2.0",
            "_view_name": "LayoutView",
            "align_content": null,
            "align_items": null,
            "align_self": null,
            "border": null,
            "bottom": null,
            "display": null,
            "flex": null,
            "flex_flow": null,
            "grid_area": null,
            "grid_auto_columns": null,
            "grid_auto_flow": null,
            "grid_auto_rows": null,
            "grid_column": null,
            "grid_gap": null,
            "grid_row": null,
            "grid_template_areas": null,
            "grid_template_columns": null,
            "grid_template_rows": null,
            "height": null,
            "justify_content": null,
            "justify_items": null,
            "left": null,
            "margin": null,
            "max_height": null,
            "max_width": null,
            "min_height": null,
            "min_width": null,
            "object_fit": null,
            "object_position": null,
            "order": null,
            "overflow": null,
            "overflow_x": null,
            "overflow_y": null,
            "padding": null,
            "right": null,
            "top": null,
            "visibility": null,
            "width": null
          }
        },
        "b7ce3674d3414689b1a5d0fb4da97d3b": {
          "model_module": "@jupyter-widgets/base",
          "model_name": "LayoutModel",
          "model_module_version": "1.2.0",
          "state": {
            "_model_module": "@jupyter-widgets/base",
            "_model_module_version": "1.2.0",
            "_model_name": "LayoutModel",
            "_view_count": null,
            "_view_module": "@jupyter-widgets/base",
            "_view_module_version": "1.2.0",
            "_view_name": "LayoutView",
            "align_content": null,
            "align_items": null,
            "align_self": null,
            "border": null,
            "bottom": null,
            "display": null,
            "flex": null,
            "flex_flow": null,
            "grid_area": null,
            "grid_auto_columns": null,
            "grid_auto_flow": null,
            "grid_auto_rows": null,
            "grid_column": null,
            "grid_gap": null,
            "grid_row": null,
            "grid_template_areas": null,
            "grid_template_columns": null,
            "grid_template_rows": null,
            "height": null,
            "justify_content": null,
            "justify_items": null,
            "left": null,
            "margin": null,
            "max_height": null,
            "max_width": null,
            "min_height": null,
            "min_width": null,
            "object_fit": null,
            "object_position": null,
            "order": null,
            "overflow": null,
            "overflow_x": null,
            "overflow_y": null,
            "padding": null,
            "right": null,
            "top": null,
            "visibility": null,
            "width": null
          }
        },
        "658fda1efcbf4c9b972c776a0f5730e6": {
          "model_module": "@jupyter-widgets/controls",
          "model_name": "DescriptionStyleModel",
          "model_module_version": "1.5.0",
          "state": {
            "_model_module": "@jupyter-widgets/controls",
            "_model_module_version": "1.5.0",
            "_model_name": "DescriptionStyleModel",
            "_view_count": null,
            "_view_module": "@jupyter-widgets/base",
            "_view_module_version": "1.2.0",
            "_view_name": "StyleView",
            "description_width": ""
          }
        },
        "9625cd6e90bf458eaf6305acd634aaa0": {
          "model_module": "@jupyter-widgets/base",
          "model_name": "LayoutModel",
          "model_module_version": "1.2.0",
          "state": {
            "_model_module": "@jupyter-widgets/base",
            "_model_module_version": "1.2.0",
            "_model_name": "LayoutModel",
            "_view_count": null,
            "_view_module": "@jupyter-widgets/base",
            "_view_module_version": "1.2.0",
            "_view_name": "LayoutView",
            "align_content": null,
            "align_items": null,
            "align_self": null,
            "border": null,
            "bottom": null,
            "display": null,
            "flex": null,
            "flex_flow": null,
            "grid_area": null,
            "grid_auto_columns": null,
            "grid_auto_flow": null,
            "grid_auto_rows": null,
            "grid_column": null,
            "grid_gap": null,
            "grid_row": null,
            "grid_template_areas": null,
            "grid_template_columns": null,
            "grid_template_rows": null,
            "height": null,
            "justify_content": null,
            "justify_items": null,
            "left": null,
            "margin": null,
            "max_height": null,
            "max_width": null,
            "min_height": null,
            "min_width": null,
            "object_fit": null,
            "object_position": null,
            "order": null,
            "overflow": null,
            "overflow_x": null,
            "overflow_y": null,
            "padding": null,
            "right": null,
            "top": null,
            "visibility": null,
            "width": null
          }
        },
        "e726b4785028442c8a3bd58eb04c0f0b": {
          "model_module": "@jupyter-widgets/controls",
          "model_name": "ProgressStyleModel",
          "model_module_version": "1.5.0",
          "state": {
            "_model_module": "@jupyter-widgets/controls",
            "_model_module_version": "1.5.0",
            "_model_name": "ProgressStyleModel",
            "_view_count": null,
            "_view_module": "@jupyter-widgets/base",
            "_view_module_version": "1.2.0",
            "_view_name": "StyleView",
            "bar_color": null,
            "description_width": ""
          }
        },
        "a82ce382050b441ea23caa0bc861f30f": {
          "model_module": "@jupyter-widgets/base",
          "model_name": "LayoutModel",
          "model_module_version": "1.2.0",
          "state": {
            "_model_module": "@jupyter-widgets/base",
            "_model_module_version": "1.2.0",
            "_model_name": "LayoutModel",
            "_view_count": null,
            "_view_module": "@jupyter-widgets/base",
            "_view_module_version": "1.2.0",
            "_view_name": "LayoutView",
            "align_content": null,
            "align_items": null,
            "align_self": null,
            "border": null,
            "bottom": null,
            "display": null,
            "flex": null,
            "flex_flow": null,
            "grid_area": null,
            "grid_auto_columns": null,
            "grid_auto_flow": null,
            "grid_auto_rows": null,
            "grid_column": null,
            "grid_gap": null,
            "grid_row": null,
            "grid_template_areas": null,
            "grid_template_columns": null,
            "grid_template_rows": null,
            "height": null,
            "justify_content": null,
            "justify_items": null,
            "left": null,
            "margin": null,
            "max_height": null,
            "max_width": null,
            "min_height": null,
            "min_width": null,
            "object_fit": null,
            "object_position": null,
            "order": null,
            "overflow": null,
            "overflow_x": null,
            "overflow_y": null,
            "padding": null,
            "right": null,
            "top": null,
            "visibility": null,
            "width": null
          }
        },
        "ac9da389cc544b4883f592b373498e88": {
          "model_module": "@jupyter-widgets/controls",
          "model_name": "DescriptionStyleModel",
          "model_module_version": "1.5.0",
          "state": {
            "_model_module": "@jupyter-widgets/controls",
            "_model_module_version": "1.5.0",
            "_model_name": "DescriptionStyleModel",
            "_view_count": null,
            "_view_module": "@jupyter-widgets/base",
            "_view_module_version": "1.2.0",
            "_view_name": "StyleView",
            "description_width": ""
          }
        }
      }
    }
  },
  "nbformat": 4,
  "nbformat_minor": 0
}